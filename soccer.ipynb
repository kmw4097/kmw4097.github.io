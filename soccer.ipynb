{
 "cells": [
  {
   "cell_type": "code",
   "execution_count": 871,
   "id": "ba2b85c4",
   "metadata": {},
   "outputs": [],
   "source": [
    "#선형,다항회귀\n",
    "#sgd\n",
    "#릿지,라쏘,엘라스틱넷\n",
    "#svmregression,randomforestRegression"
   ]
  },
  {
   "cell_type": "code",
   "execution_count": 872,
   "id": "f2f882bf",
   "metadata": {},
   "outputs": [],
   "source": [
    "import numpy as np\n",
    "import pandas as pd\n",
    "import matplotlib.pyplot as plt\n",
    "\n",
    "train=pd.read_csv(\"FIFA_train.csv\")"
   ]
  },
  {
   "cell_type": "code",
   "execution_count": 873,
   "id": "db3a84eb",
   "metadata": {},
   "outputs": [
    {
     "data": {
      "text/html": [
       "<div>\n",
       "<style scoped>\n",
       "    .dataframe tbody tr th:only-of-type {\n",
       "        vertical-align: middle;\n",
       "    }\n",
       "\n",
       "    .dataframe tbody tr th {\n",
       "        vertical-align: top;\n",
       "    }\n",
       "\n",
       "    .dataframe thead th {\n",
       "        text-align: right;\n",
       "    }\n",
       "</style>\n",
       "<table border=\"1\" class=\"dataframe\">\n",
       "  <thead>\n",
       "    <tr style=\"text-align: right;\">\n",
       "      <th></th>\n",
       "      <th>id</th>\n",
       "      <th>name</th>\n",
       "      <th>age</th>\n",
       "      <th>continent</th>\n",
       "      <th>contract_until</th>\n",
       "      <th>position</th>\n",
       "      <th>prefer_foot</th>\n",
       "      <th>reputation</th>\n",
       "      <th>stat_overall</th>\n",
       "      <th>stat_potential</th>\n",
       "      <th>stat_skill_moves</th>\n",
       "      <th>value</th>\n",
       "    </tr>\n",
       "  </thead>\n",
       "  <tbody>\n",
       "    <tr>\n",
       "      <th>0</th>\n",
       "      <td>0</td>\n",
       "      <td>L. Messi</td>\n",
       "      <td>31</td>\n",
       "      <td>south america</td>\n",
       "      <td>2021</td>\n",
       "      <td>ST</td>\n",
       "      <td>left</td>\n",
       "      <td>5.00000</td>\n",
       "      <td>94</td>\n",
       "      <td>94</td>\n",
       "      <td>4.00000</td>\n",
       "      <td>110500000.00000</td>\n",
       "    </tr>\n",
       "    <tr>\n",
       "      <th>1</th>\n",
       "      <td>3</td>\n",
       "      <td>De Gea</td>\n",
       "      <td>27</td>\n",
       "      <td>europe</td>\n",
       "      <td>2020</td>\n",
       "      <td>GK</td>\n",
       "      <td>right</td>\n",
       "      <td>4.00000</td>\n",
       "      <td>91</td>\n",
       "      <td>93</td>\n",
       "      <td>1.00000</td>\n",
       "      <td>72000000.00000</td>\n",
       "    </tr>\n",
       "    <tr>\n",
       "      <th>2</th>\n",
       "      <td>7</td>\n",
       "      <td>L. Suárez</td>\n",
       "      <td>31</td>\n",
       "      <td>south america</td>\n",
       "      <td>2021</td>\n",
       "      <td>ST</td>\n",
       "      <td>right</td>\n",
       "      <td>5.00000</td>\n",
       "      <td>91</td>\n",
       "      <td>91</td>\n",
       "      <td>3.00000</td>\n",
       "      <td>80000000.00000</td>\n",
       "    </tr>\n",
       "    <tr>\n",
       "      <th>3</th>\n",
       "      <td>8</td>\n",
       "      <td>Sergio Ramos</td>\n",
       "      <td>32</td>\n",
       "      <td>europe</td>\n",
       "      <td>2020</td>\n",
       "      <td>DF</td>\n",
       "      <td>right</td>\n",
       "      <td>4.00000</td>\n",
       "      <td>91</td>\n",
       "      <td>91</td>\n",
       "      <td>3.00000</td>\n",
       "      <td>51000000.00000</td>\n",
       "    </tr>\n",
       "    <tr>\n",
       "      <th>4</th>\n",
       "      <td>9</td>\n",
       "      <td>J. Oblak</td>\n",
       "      <td>25</td>\n",
       "      <td>europe</td>\n",
       "      <td>2021</td>\n",
       "      <td>GK</td>\n",
       "      <td>right</td>\n",
       "      <td>3.00000</td>\n",
       "      <td>90</td>\n",
       "      <td>93</td>\n",
       "      <td>1.00000</td>\n",
       "      <td>68000000.00000</td>\n",
       "    </tr>\n",
       "  </tbody>\n",
       "</table>\n",
       "</div>"
      ],
      "text/plain": [
       "   id          name  age      continent contract_until position prefer_foot  \\\n",
       "0   0      L. Messi   31  south america           2021       ST        left   \n",
       "1   3        De Gea   27         europe           2020       GK       right   \n",
       "2   7     L. Suárez   31  south america           2021       ST       right   \n",
       "3   8  Sergio Ramos   32         europe           2020       DF       right   \n",
       "4   9      J. Oblak   25         europe           2021       GK       right   \n",
       "\n",
       "   reputation  stat_overall  stat_potential  stat_skill_moves           value  \n",
       "0     5.00000            94              94           4.00000 110500000.00000  \n",
       "1     4.00000            91              93           1.00000  72000000.00000  \n",
       "2     5.00000            91              91           3.00000  80000000.00000  \n",
       "3     4.00000            91              91           3.00000  51000000.00000  \n",
       "4     3.00000            90              93           1.00000  68000000.00000  "
      ]
     },
     "execution_count": 873,
     "metadata": {},
     "output_type": "execute_result"
    }
   ],
   "source": [
    "train.head()"
   ]
  },
  {
   "cell_type": "code",
   "execution_count": 874,
   "id": "f390f55c",
   "metadata": {},
   "outputs": [],
   "source": [
    "test=pd.read_csv('FIFA_test.csv')"
   ]
  },
  {
   "cell_type": "code",
   "execution_count": 875,
   "id": "fdde7f47",
   "metadata": {},
   "outputs": [
    {
     "data": {
      "text/html": [
       "<div>\n",
       "<style scoped>\n",
       "    .dataframe tbody tr th:only-of-type {\n",
       "        vertical-align: middle;\n",
       "    }\n",
       "\n",
       "    .dataframe tbody tr th {\n",
       "        vertical-align: top;\n",
       "    }\n",
       "\n",
       "    .dataframe thead th {\n",
       "        text-align: right;\n",
       "    }\n",
       "</style>\n",
       "<table border=\"1\" class=\"dataframe\">\n",
       "  <thead>\n",
       "    <tr style=\"text-align: right;\">\n",
       "      <th></th>\n",
       "      <th>id</th>\n",
       "      <th>name</th>\n",
       "      <th>age</th>\n",
       "      <th>continent</th>\n",
       "      <th>contract_until</th>\n",
       "      <th>position</th>\n",
       "      <th>prefer_foot</th>\n",
       "      <th>reputation</th>\n",
       "      <th>stat_overall</th>\n",
       "      <th>stat_potential</th>\n",
       "      <th>stat_skill_moves</th>\n",
       "    </tr>\n",
       "  </thead>\n",
       "  <tbody>\n",
       "    <tr>\n",
       "      <th>0</th>\n",
       "      <td>1</td>\n",
       "      <td>Cristiano Ronaldo</td>\n",
       "      <td>33</td>\n",
       "      <td>europe</td>\n",
       "      <td>2022</td>\n",
       "      <td>ST</td>\n",
       "      <td>right</td>\n",
       "      <td>5.00000</td>\n",
       "      <td>94</td>\n",
       "      <td>94</td>\n",
       "      <td>5.00000</td>\n",
       "    </tr>\n",
       "    <tr>\n",
       "      <th>1</th>\n",
       "      <td>2</td>\n",
       "      <td>Neymar Jr</td>\n",
       "      <td>26</td>\n",
       "      <td>south america</td>\n",
       "      <td>2022</td>\n",
       "      <td>ST</td>\n",
       "      <td>right</td>\n",
       "      <td>5.00000</td>\n",
       "      <td>92</td>\n",
       "      <td>93</td>\n",
       "      <td>5.00000</td>\n",
       "    </tr>\n",
       "    <tr>\n",
       "      <th>2</th>\n",
       "      <td>4</td>\n",
       "      <td>K. De Bruyne</td>\n",
       "      <td>27</td>\n",
       "      <td>europe</td>\n",
       "      <td>2023</td>\n",
       "      <td>MF</td>\n",
       "      <td>right</td>\n",
       "      <td>4.00000</td>\n",
       "      <td>91</td>\n",
       "      <td>92</td>\n",
       "      <td>4.00000</td>\n",
       "    </tr>\n",
       "    <tr>\n",
       "      <th>3</th>\n",
       "      <td>5</td>\n",
       "      <td>E. Hazard</td>\n",
       "      <td>27</td>\n",
       "      <td>europe</td>\n",
       "      <td>2020</td>\n",
       "      <td>ST</td>\n",
       "      <td>right</td>\n",
       "      <td>4.00000</td>\n",
       "      <td>91</td>\n",
       "      <td>91</td>\n",
       "      <td>4.00000</td>\n",
       "    </tr>\n",
       "    <tr>\n",
       "      <th>4</th>\n",
       "      <td>6</td>\n",
       "      <td>L. Modrić</td>\n",
       "      <td>32</td>\n",
       "      <td>europe</td>\n",
       "      <td>2020</td>\n",
       "      <td>MF</td>\n",
       "      <td>right</td>\n",
       "      <td>4.00000</td>\n",
       "      <td>91</td>\n",
       "      <td>91</td>\n",
       "      <td>4.00000</td>\n",
       "    </tr>\n",
       "  </tbody>\n",
       "</table>\n",
       "</div>"
      ],
      "text/plain": [
       "   id               name  age      continent contract_until position  \\\n",
       "0   1  Cristiano Ronaldo   33         europe           2022       ST   \n",
       "1   2          Neymar Jr   26  south america           2022       ST   \n",
       "2   4       K. De Bruyne   27         europe           2023       MF   \n",
       "3   5          E. Hazard   27         europe           2020       ST   \n",
       "4   6          L. Modrić   32         europe           2020       MF   \n",
       "\n",
       "  prefer_foot  reputation  stat_overall  stat_potential  stat_skill_moves  \n",
       "0       right     5.00000            94              94           5.00000  \n",
       "1       right     5.00000            92              93           5.00000  \n",
       "2       right     4.00000            91              92           4.00000  \n",
       "3       right     4.00000            91              91           4.00000  \n",
       "4       right     4.00000            91              91           4.00000  "
      ]
     },
     "execution_count": 875,
     "metadata": {},
     "output_type": "execute_result"
    }
   ],
   "source": [
    "test.head()"
   ]
  },
  {
   "cell_type": "code",
   "execution_count": 876,
   "id": "765f99ce",
   "metadata": {},
   "outputs": [
    {
     "name": "stdout",
     "output_type": "stream",
     "text": [
      "<class 'pandas.core.frame.DataFrame'>\n",
      "RangeIndex: 8932 entries, 0 to 8931\n",
      "Data columns (total 12 columns):\n",
      " #   Column            Non-Null Count  Dtype  \n",
      "---  ------            --------------  -----  \n",
      " 0   id                8932 non-null   int64  \n",
      " 1   name              8932 non-null   object \n",
      " 2   age               8932 non-null   int64  \n",
      " 3   continent         8932 non-null   object \n",
      " 4   contract_until    8932 non-null   object \n",
      " 5   position          8932 non-null   object \n",
      " 6   prefer_foot       8932 non-null   object \n",
      " 7   reputation        8932 non-null   float64\n",
      " 8   stat_overall      8932 non-null   int64  \n",
      " 9   stat_potential    8932 non-null   int64  \n",
      " 10  stat_skill_moves  8932 non-null   float64\n",
      " 11  value             8932 non-null   float64\n",
      "dtypes: float64(3), int64(4), object(5)\n",
      "memory usage: 837.5+ KB\n"
     ]
    }
   ],
   "source": [
    "train.info()"
   ]
  },
  {
   "cell_type": "code",
   "execution_count": 877,
   "id": "e16f354c",
   "metadata": {},
   "outputs": [
    {
     "data": {
      "text/plain": [
       "right    6837\n",
       "left     2095\n",
       "Name: prefer_foot, dtype: int64"
      ]
     },
     "execution_count": 877,
     "metadata": {},
     "output_type": "execute_result"
    }
   ],
   "source": [
    "train['prefer_foot'].value_counts()"
   ]
  },
  {
   "cell_type": "code",
   "execution_count": 878,
   "id": "56fc513f",
   "metadata": {},
   "outputs": [],
   "source": [
    "from sklearn.preprocessing import LabelEncoder"
   ]
  },
  {
   "cell_type": "code",
   "execution_count": 879,
   "id": "db0aee61",
   "metadata": {},
   "outputs": [],
   "source": [
    "foot_encoder=LabelEncoder()\n",
    "train['prefer_foot']=foot_encoder.fit_transform(train['prefer_foot'])"
   ]
  },
  {
   "cell_type": "code",
   "execution_count": 880,
   "id": "022e031b",
   "metadata": {},
   "outputs": [
    {
     "data": {
      "text/plain": [
       "array(['left', 'right'], dtype=object)"
      ]
     },
     "execution_count": 880,
     "metadata": {},
     "output_type": "execute_result"
    }
   ],
   "source": [
    "foot_encoder.classes_"
   ]
  },
  {
   "cell_type": "code",
   "execution_count": 881,
   "id": "01fc7f08",
   "metadata": {
    "scrolled": true
   },
   "outputs": [
    {
     "data": {
      "text/plain": [
       "europe           5322\n",
       "south america    1927\n",
       "asia              787\n",
       "africa            721\n",
       "oceania           175\n",
       "Name: continent, dtype: int64"
      ]
     },
     "execution_count": 881,
     "metadata": {},
     "output_type": "execute_result"
    }
   ],
   "source": [
    "train['continent'].value_counts()"
   ]
  },
  {
   "cell_type": "code",
   "execution_count": 882,
   "id": "d43ae90b",
   "metadata": {},
   "outputs": [],
   "source": [
    "continent_encoder=LabelEncoder()\n",
    "train['continent']=continent_encoder.fit_transform(train['continent'])"
   ]
  },
  {
   "cell_type": "code",
   "execution_count": 883,
   "id": "5fecfc05",
   "metadata": {},
   "outputs": [
    {
     "data": {
      "text/plain": [
       "array(['africa', 'asia', 'europe', 'oceania', 'south america'],\n",
       "      dtype=object)"
      ]
     },
     "execution_count": 883,
     "metadata": {},
     "output_type": "execute_result"
    }
   ],
   "source": [
    "continent_encoder.classes_"
   ]
  },
  {
   "cell_type": "code",
   "execution_count": 884,
   "id": "4549987f",
   "metadata": {},
   "outputs": [],
   "source": [
    "position_encoder=LabelEncoder()\n",
    "train['position']=position_encoder.fit_transform(train['position'])"
   ]
  },
  {
   "cell_type": "code",
   "execution_count": 885,
   "id": "48640193",
   "metadata": {},
   "outputs": [
    {
     "data": {
      "text/plain": [
       "array(['DF', 'GK', 'MF', 'ST'], dtype=object)"
      ]
     },
     "execution_count": 885,
     "metadata": {},
     "output_type": "execute_result"
    }
   ],
   "source": [
    "position_encoder.classes_"
   ]
  },
  {
   "cell_type": "code",
   "execution_count": 886,
   "id": "fb1ab5fc",
   "metadata": {},
   "outputs": [
    {
     "data": {
      "text/plain": [
       "2019            2366\n",
       "2021            2308\n",
       "2020            2041\n",
       "2022             761\n",
       "2023             506\n",
       "Jun 30, 2019     501\n",
       "2018             327\n",
       "Dec 31, 2018      64\n",
       "May 31, 2019      19\n",
       "2024              12\n",
       "Jan 31, 2019      10\n",
       "Jun 30, 2020       9\n",
       "2025               3\n",
       "Jan 1, 2019        2\n",
       "2026               1\n",
       "May 31, 2020       1\n",
       "Jan 12, 2019       1\n",
       "Name: contract_until, dtype: int64"
      ]
     },
     "execution_count": 886,
     "metadata": {},
     "output_type": "execute_result"
    }
   ],
   "source": [
    "train['contract_until'].value_counts()"
   ]
  },
  {
   "cell_type": "code",
   "execution_count": 887,
   "id": "9e71122e",
   "metadata": {
    "scrolled": false
   },
   "outputs": [
    {
     "name": "stdout",
     "output_type": "stream",
     "text": [
      "<class 'pandas.core.frame.DataFrame'>\n",
      "RangeIndex: 8932 entries, 0 to 8931\n",
      "Data columns (total 12 columns):\n",
      " #   Column            Non-Null Count  Dtype  \n",
      "---  ------            --------------  -----  \n",
      " 0   id                8932 non-null   int64  \n",
      " 1   name              8932 non-null   object \n",
      " 2   age               8932 non-null   int64  \n",
      " 3   continent         8932 non-null   int32  \n",
      " 4   contract_until    8932 non-null   object \n",
      " 5   position          8932 non-null   int32  \n",
      " 6   prefer_foot       8932 non-null   int32  \n",
      " 7   reputation        8932 non-null   float64\n",
      " 8   stat_overall      8932 non-null   int64  \n",
      " 9   stat_potential    8932 non-null   int64  \n",
      " 10  stat_skill_moves  8932 non-null   float64\n",
      " 11  value             8932 non-null   float64\n",
      "dtypes: float64(3), int32(3), int64(4), object(2)\n",
      "memory usage: 732.8+ KB\n"
     ]
    }
   ],
   "source": [
    "train.info()"
   ]
  },
  {
   "cell_type": "code",
   "execution_count": 888,
   "id": "dd7bdb39",
   "metadata": {},
   "outputs": [
    {
     "data": {
      "text/html": [
       "<div>\n",
       "<style scoped>\n",
       "    .dataframe tbody tr th:only-of-type {\n",
       "        vertical-align: middle;\n",
       "    }\n",
       "\n",
       "    .dataframe tbody tr th {\n",
       "        vertical-align: top;\n",
       "    }\n",
       "\n",
       "    .dataframe thead th {\n",
       "        text-align: right;\n",
       "    }\n",
       "</style>\n",
       "<table border=\"1\" class=\"dataframe\">\n",
       "  <thead>\n",
       "    <tr style=\"text-align: right;\">\n",
       "      <th></th>\n",
       "      <th>id</th>\n",
       "      <th>name</th>\n",
       "      <th>age</th>\n",
       "      <th>continent</th>\n",
       "      <th>contract_until</th>\n",
       "      <th>position</th>\n",
       "      <th>prefer_foot</th>\n",
       "      <th>reputation</th>\n",
       "      <th>stat_overall</th>\n",
       "      <th>stat_potential</th>\n",
       "      <th>stat_skill_moves</th>\n",
       "      <th>value</th>\n",
       "    </tr>\n",
       "  </thead>\n",
       "  <tbody>\n",
       "    <tr>\n",
       "      <th>0</th>\n",
       "      <td>0</td>\n",
       "      <td>L. Messi</td>\n",
       "      <td>31</td>\n",
       "      <td>4</td>\n",
       "      <td>2021</td>\n",
       "      <td>3</td>\n",
       "      <td>0</td>\n",
       "      <td>5.00000</td>\n",
       "      <td>94</td>\n",
       "      <td>94</td>\n",
       "      <td>4.00000</td>\n",
       "      <td>110500000.00000</td>\n",
       "    </tr>\n",
       "    <tr>\n",
       "      <th>1</th>\n",
       "      <td>3</td>\n",
       "      <td>De Gea</td>\n",
       "      <td>27</td>\n",
       "      <td>2</td>\n",
       "      <td>2020</td>\n",
       "      <td>1</td>\n",
       "      <td>1</td>\n",
       "      <td>4.00000</td>\n",
       "      <td>91</td>\n",
       "      <td>93</td>\n",
       "      <td>1.00000</td>\n",
       "      <td>72000000.00000</td>\n",
       "    </tr>\n",
       "    <tr>\n",
       "      <th>2</th>\n",
       "      <td>7</td>\n",
       "      <td>L. Suárez</td>\n",
       "      <td>31</td>\n",
       "      <td>4</td>\n",
       "      <td>2021</td>\n",
       "      <td>3</td>\n",
       "      <td>1</td>\n",
       "      <td>5.00000</td>\n",
       "      <td>91</td>\n",
       "      <td>91</td>\n",
       "      <td>3.00000</td>\n",
       "      <td>80000000.00000</td>\n",
       "    </tr>\n",
       "    <tr>\n",
       "      <th>3</th>\n",
       "      <td>8</td>\n",
       "      <td>Sergio Ramos</td>\n",
       "      <td>32</td>\n",
       "      <td>2</td>\n",
       "      <td>2020</td>\n",
       "      <td>0</td>\n",
       "      <td>1</td>\n",
       "      <td>4.00000</td>\n",
       "      <td>91</td>\n",
       "      <td>91</td>\n",
       "      <td>3.00000</td>\n",
       "      <td>51000000.00000</td>\n",
       "    </tr>\n",
       "    <tr>\n",
       "      <th>4</th>\n",
       "      <td>9</td>\n",
       "      <td>J. Oblak</td>\n",
       "      <td>25</td>\n",
       "      <td>2</td>\n",
       "      <td>2021</td>\n",
       "      <td>1</td>\n",
       "      <td>1</td>\n",
       "      <td>3.00000</td>\n",
       "      <td>90</td>\n",
       "      <td>93</td>\n",
       "      <td>1.00000</td>\n",
       "      <td>68000000.00000</td>\n",
       "    </tr>\n",
       "  </tbody>\n",
       "</table>\n",
       "</div>"
      ],
      "text/plain": [
       "   id          name  age  continent contract_until  position  prefer_foot  \\\n",
       "0   0      L. Messi   31          4           2021         3            0   \n",
       "1   3        De Gea   27          2           2020         1            1   \n",
       "2   7     L. Suárez   31          4           2021         3            1   \n",
       "3   8  Sergio Ramos   32          2           2020         0            1   \n",
       "4   9      J. Oblak   25          2           2021         1            1   \n",
       "\n",
       "   reputation  stat_overall  stat_potential  stat_skill_moves           value  \n",
       "0     5.00000            94              94           4.00000 110500000.00000  \n",
       "1     4.00000            91              93           1.00000  72000000.00000  \n",
       "2     5.00000            91              91           3.00000  80000000.00000  \n",
       "3     4.00000            91              91           3.00000  51000000.00000  \n",
       "4     3.00000            90              93           1.00000  68000000.00000  "
      ]
     },
     "execution_count": 888,
     "metadata": {},
     "output_type": "execute_result"
    }
   ],
   "source": [
    "train.head()"
   ]
  },
  {
   "cell_type": "code",
   "execution_count": 889,
   "id": "02b7f9ef",
   "metadata": {},
   "outputs": [
    {
     "data": {
      "text/html": [
       "<div>\n",
       "<style scoped>\n",
       "    .dataframe tbody tr th:only-of-type {\n",
       "        vertical-align: middle;\n",
       "    }\n",
       "\n",
       "    .dataframe tbody tr th {\n",
       "        vertical-align: top;\n",
       "    }\n",
       "\n",
       "    .dataframe thead th {\n",
       "        text-align: right;\n",
       "    }\n",
       "</style>\n",
       "<table border=\"1\" class=\"dataframe\">\n",
       "  <thead>\n",
       "    <tr style=\"text-align: right;\">\n",
       "      <th></th>\n",
       "      <th>id</th>\n",
       "      <th>age</th>\n",
       "      <th>continent</th>\n",
       "      <th>position</th>\n",
       "      <th>prefer_foot</th>\n",
       "      <th>reputation</th>\n",
       "      <th>stat_overall</th>\n",
       "      <th>stat_potential</th>\n",
       "      <th>stat_skill_moves</th>\n",
       "      <th>value</th>\n",
       "    </tr>\n",
       "  </thead>\n",
       "  <tbody>\n",
       "    <tr>\n",
       "      <th>id</th>\n",
       "      <td>1.00000</td>\n",
       "      <td>-0.47578</td>\n",
       "      <td>-0.10625</td>\n",
       "      <td>-0.01350</td>\n",
       "      <td>0.03721</td>\n",
       "      <td>-0.42374</td>\n",
       "      <td>-0.97237</td>\n",
       "      <td>-0.63020</td>\n",
       "      <td>-0.40246</td>\n",
       "      <td>-0.54428</td>\n",
       "    </tr>\n",
       "    <tr>\n",
       "      <th>age</th>\n",
       "      <td>-0.47578</td>\n",
       "      <td>1.00000</td>\n",
       "      <td>0.09103</td>\n",
       "      <td>-0.07913</td>\n",
       "      <td>0.00776</td>\n",
       "      <td>0.26347</td>\n",
       "      <td>0.46735</td>\n",
       "      <td>-0.23130</td>\n",
       "      <td>0.03936</td>\n",
       "      <td>0.08732</td>\n",
       "    </tr>\n",
       "    <tr>\n",
       "      <th>continent</th>\n",
       "      <td>-0.10625</td>\n",
       "      <td>0.09103</td>\n",
       "      <td>1.00000</td>\n",
       "      <td>-0.02005</td>\n",
       "      <td>-0.01931</td>\n",
       "      <td>0.01261</td>\n",
       "      <td>0.09949</td>\n",
       "      <td>0.07231</td>\n",
       "      <td>0.01237</td>\n",
       "      <td>0.03955</td>\n",
       "    </tr>\n",
       "    <tr>\n",
       "      <th>position</th>\n",
       "      <td>-0.01350</td>\n",
       "      <td>-0.07913</td>\n",
       "      <td>-0.02005</td>\n",
       "      <td>1.00000</td>\n",
       "      <td>0.10550</td>\n",
       "      <td>0.03122</td>\n",
       "      <td>0.01582</td>\n",
       "      <td>0.06923</td>\n",
       "      <td>0.38402</td>\n",
       "      <td>0.07498</td>\n",
       "    </tr>\n",
       "    <tr>\n",
       "      <th>prefer_foot</th>\n",
       "      <td>0.03721</td>\n",
       "      <td>0.00776</td>\n",
       "      <td>-0.01931</td>\n",
       "      <td>0.10550</td>\n",
       "      <td>1.00000</td>\n",
       "      <td>0.00386</td>\n",
       "      <td>-0.03658</td>\n",
       "      <td>-0.02903</td>\n",
       "      <td>-0.10911</td>\n",
       "      <td>-0.00820</td>\n",
       "    </tr>\n",
       "    <tr>\n",
       "      <th>reputation</th>\n",
       "      <td>-0.42374</td>\n",
       "      <td>0.26347</td>\n",
       "      <td>0.01261</td>\n",
       "      <td>0.03122</td>\n",
       "      <td>0.00386</td>\n",
       "      <td>1.00000</td>\n",
       "      <td>0.52139</td>\n",
       "      <td>0.39918</td>\n",
       "      <td>0.19658</td>\n",
       "      <td>0.66598</td>\n",
       "    </tr>\n",
       "    <tr>\n",
       "      <th>stat_overall</th>\n",
       "      <td>-0.97237</td>\n",
       "      <td>0.46735</td>\n",
       "      <td>0.09949</td>\n",
       "      <td>0.01582</td>\n",
       "      <td>-0.03658</td>\n",
       "      <td>0.52139</td>\n",
       "      <td>1.00000</td>\n",
       "      <td>0.66545</td>\n",
       "      <td>0.40016</td>\n",
       "      <td>0.65844</td>\n",
       "    </tr>\n",
       "    <tr>\n",
       "      <th>stat_potential</th>\n",
       "      <td>-0.63020</td>\n",
       "      <td>-0.23130</td>\n",
       "      <td>0.07231</td>\n",
       "      <td>0.06923</td>\n",
       "      <td>-0.02903</td>\n",
       "      <td>0.39918</td>\n",
       "      <td>0.66545</td>\n",
       "      <td>1.00000</td>\n",
       "      <td>0.33258</td>\n",
       "      <td>0.61191</td>\n",
       "    </tr>\n",
       "    <tr>\n",
       "      <th>stat_skill_moves</th>\n",
       "      <td>-0.40246</td>\n",
       "      <td>0.03936</td>\n",
       "      <td>0.01237</td>\n",
       "      <td>0.38402</td>\n",
       "      <td>-0.10911</td>\n",
       "      <td>0.19658</td>\n",
       "      <td>0.40016</td>\n",
       "      <td>0.33258</td>\n",
       "      <td>1.00000</td>\n",
       "      <td>0.29850</td>\n",
       "    </tr>\n",
       "    <tr>\n",
       "      <th>value</th>\n",
       "      <td>-0.54428</td>\n",
       "      <td>0.08732</td>\n",
       "      <td>0.03955</td>\n",
       "      <td>0.07498</td>\n",
       "      <td>-0.00820</td>\n",
       "      <td>0.66598</td>\n",
       "      <td>0.65844</td>\n",
       "      <td>0.61191</td>\n",
       "      <td>0.29850</td>\n",
       "      <td>1.00000</td>\n",
       "    </tr>\n",
       "  </tbody>\n",
       "</table>\n",
       "</div>"
      ],
      "text/plain": [
       "                       id      age  continent  position  prefer_foot  \\\n",
       "id                1.00000 -0.47578   -0.10625  -0.01350      0.03721   \n",
       "age              -0.47578  1.00000    0.09103  -0.07913      0.00776   \n",
       "continent        -0.10625  0.09103    1.00000  -0.02005     -0.01931   \n",
       "position         -0.01350 -0.07913   -0.02005   1.00000      0.10550   \n",
       "prefer_foot       0.03721  0.00776   -0.01931   0.10550      1.00000   \n",
       "reputation       -0.42374  0.26347    0.01261   0.03122      0.00386   \n",
       "stat_overall     -0.97237  0.46735    0.09949   0.01582     -0.03658   \n",
       "stat_potential   -0.63020 -0.23130    0.07231   0.06923     -0.02903   \n",
       "stat_skill_moves -0.40246  0.03936    0.01237   0.38402     -0.10911   \n",
       "value            -0.54428  0.08732    0.03955   0.07498     -0.00820   \n",
       "\n",
       "                  reputation  stat_overall  stat_potential  stat_skill_moves  \\\n",
       "id                  -0.42374      -0.97237        -0.63020          -0.40246   \n",
       "age                  0.26347       0.46735        -0.23130           0.03936   \n",
       "continent            0.01261       0.09949         0.07231           0.01237   \n",
       "position             0.03122       0.01582         0.06923           0.38402   \n",
       "prefer_foot          0.00386      -0.03658        -0.02903          -0.10911   \n",
       "reputation           1.00000       0.52139         0.39918           0.19658   \n",
       "stat_overall         0.52139       1.00000         0.66545           0.40016   \n",
       "stat_potential       0.39918       0.66545         1.00000           0.33258   \n",
       "stat_skill_moves     0.19658       0.40016         0.33258           1.00000   \n",
       "value                0.66598       0.65844         0.61191           0.29850   \n",
       "\n",
       "                    value  \n",
       "id               -0.54428  \n",
       "age               0.08732  \n",
       "continent         0.03955  \n",
       "position          0.07498  \n",
       "prefer_foot      -0.00820  \n",
       "reputation        0.66598  \n",
       "stat_overall      0.65844  \n",
       "stat_potential    0.61191  \n",
       "stat_skill_moves  0.29850  \n",
       "value             1.00000  "
      ]
     },
     "execution_count": 889,
     "metadata": {},
     "output_type": "execute_result"
    }
   ],
   "source": [
    "train.corr()"
   ]
  },
  {
   "cell_type": "code",
   "execution_count": 890,
   "id": "89079bed",
   "metadata": {},
   "outputs": [],
   "source": [
    "train['contract_until']=train['contract_until'].str[-4:].astype('int')"
   ]
  },
  {
   "cell_type": "code",
   "execution_count": 891,
   "id": "2160f6fb",
   "metadata": {},
   "outputs": [],
   "source": [
    "train['contract_until']=train['contract_until']-2018"
   ]
  },
  {
   "cell_type": "code",
   "execution_count": 892,
   "id": "78fe15a0",
   "metadata": {
    "scrolled": false
   },
   "outputs": [
    {
     "data": {
      "text/html": [
       "<div>\n",
       "<style scoped>\n",
       "    .dataframe tbody tr th:only-of-type {\n",
       "        vertical-align: middle;\n",
       "    }\n",
       "\n",
       "    .dataframe tbody tr th {\n",
       "        vertical-align: top;\n",
       "    }\n",
       "\n",
       "    .dataframe thead th {\n",
       "        text-align: right;\n",
       "    }\n",
       "</style>\n",
       "<table border=\"1\" class=\"dataframe\">\n",
       "  <thead>\n",
       "    <tr style=\"text-align: right;\">\n",
       "      <th></th>\n",
       "      <th>id</th>\n",
       "      <th>name</th>\n",
       "      <th>age</th>\n",
       "      <th>continent</th>\n",
       "      <th>contract_until</th>\n",
       "      <th>position</th>\n",
       "      <th>prefer_foot</th>\n",
       "      <th>reputation</th>\n",
       "      <th>stat_overall</th>\n",
       "      <th>stat_potential</th>\n",
       "      <th>stat_skill_moves</th>\n",
       "      <th>value</th>\n",
       "    </tr>\n",
       "  </thead>\n",
       "  <tbody>\n",
       "    <tr>\n",
       "      <th>0</th>\n",
       "      <td>0</td>\n",
       "      <td>L. Messi</td>\n",
       "      <td>31</td>\n",
       "      <td>4</td>\n",
       "      <td>3</td>\n",
       "      <td>3</td>\n",
       "      <td>0</td>\n",
       "      <td>5.00000</td>\n",
       "      <td>94</td>\n",
       "      <td>94</td>\n",
       "      <td>4.00000</td>\n",
       "      <td>110500000.00000</td>\n",
       "    </tr>\n",
       "    <tr>\n",
       "      <th>1</th>\n",
       "      <td>3</td>\n",
       "      <td>De Gea</td>\n",
       "      <td>27</td>\n",
       "      <td>2</td>\n",
       "      <td>2</td>\n",
       "      <td>1</td>\n",
       "      <td>1</td>\n",
       "      <td>4.00000</td>\n",
       "      <td>91</td>\n",
       "      <td>93</td>\n",
       "      <td>1.00000</td>\n",
       "      <td>72000000.00000</td>\n",
       "    </tr>\n",
       "    <tr>\n",
       "      <th>2</th>\n",
       "      <td>7</td>\n",
       "      <td>L. Suárez</td>\n",
       "      <td>31</td>\n",
       "      <td>4</td>\n",
       "      <td>3</td>\n",
       "      <td>3</td>\n",
       "      <td>1</td>\n",
       "      <td>5.00000</td>\n",
       "      <td>91</td>\n",
       "      <td>91</td>\n",
       "      <td>3.00000</td>\n",
       "      <td>80000000.00000</td>\n",
       "    </tr>\n",
       "    <tr>\n",
       "      <th>3</th>\n",
       "      <td>8</td>\n",
       "      <td>Sergio Ramos</td>\n",
       "      <td>32</td>\n",
       "      <td>2</td>\n",
       "      <td>2</td>\n",
       "      <td>0</td>\n",
       "      <td>1</td>\n",
       "      <td>4.00000</td>\n",
       "      <td>91</td>\n",
       "      <td>91</td>\n",
       "      <td>3.00000</td>\n",
       "      <td>51000000.00000</td>\n",
       "    </tr>\n",
       "    <tr>\n",
       "      <th>4</th>\n",
       "      <td>9</td>\n",
       "      <td>J. Oblak</td>\n",
       "      <td>25</td>\n",
       "      <td>2</td>\n",
       "      <td>3</td>\n",
       "      <td>1</td>\n",
       "      <td>1</td>\n",
       "      <td>3.00000</td>\n",
       "      <td>90</td>\n",
       "      <td>93</td>\n",
       "      <td>1.00000</td>\n",
       "      <td>68000000.00000</td>\n",
       "    </tr>\n",
       "  </tbody>\n",
       "</table>\n",
       "</div>"
      ],
      "text/plain": [
       "   id          name  age  continent  contract_until  position  prefer_foot  \\\n",
       "0   0      L. Messi   31          4               3         3            0   \n",
       "1   3        De Gea   27          2               2         1            1   \n",
       "2   7     L. Suárez   31          4               3         3            1   \n",
       "3   8  Sergio Ramos   32          2               2         0            1   \n",
       "4   9      J. Oblak   25          2               3         1            1   \n",
       "\n",
       "   reputation  stat_overall  stat_potential  stat_skill_moves           value  \n",
       "0     5.00000            94              94           4.00000 110500000.00000  \n",
       "1     4.00000            91              93           1.00000  72000000.00000  \n",
       "2     5.00000            91              91           3.00000  80000000.00000  \n",
       "3     4.00000            91              91           3.00000  51000000.00000  \n",
       "4     3.00000            90              93           1.00000  68000000.00000  "
      ]
     },
     "execution_count": 892,
     "metadata": {},
     "output_type": "execute_result"
    }
   ],
   "source": [
    "train.head()"
   ]
  },
  {
   "cell_type": "code",
   "execution_count": 893,
   "id": "7c815730",
   "metadata": {},
   "outputs": [
    {
     "data": {
      "text/html": [
       "<div>\n",
       "<style scoped>\n",
       "    .dataframe tbody tr th:only-of-type {\n",
       "        vertical-align: middle;\n",
       "    }\n",
       "\n",
       "    .dataframe tbody tr th {\n",
       "        vertical-align: top;\n",
       "    }\n",
       "\n",
       "    .dataframe thead th {\n",
       "        text-align: right;\n",
       "    }\n",
       "</style>\n",
       "<table border=\"1\" class=\"dataframe\">\n",
       "  <thead>\n",
       "    <tr style=\"text-align: right;\">\n",
       "      <th></th>\n",
       "      <th>id</th>\n",
       "      <th>age</th>\n",
       "      <th>continent</th>\n",
       "      <th>contract_until</th>\n",
       "      <th>position</th>\n",
       "      <th>prefer_foot</th>\n",
       "      <th>reputation</th>\n",
       "      <th>stat_overall</th>\n",
       "      <th>stat_potential</th>\n",
       "      <th>stat_skill_moves</th>\n",
       "      <th>value</th>\n",
       "    </tr>\n",
       "  </thead>\n",
       "  <tbody>\n",
       "    <tr>\n",
       "      <th>id</th>\n",
       "      <td>1.00000</td>\n",
       "      <td>-0.47578</td>\n",
       "      <td>-0.10625</td>\n",
       "      <td>-0.14320</td>\n",
       "      <td>-0.01350</td>\n",
       "      <td>0.03721</td>\n",
       "      <td>-0.42374</td>\n",
       "      <td>-0.97237</td>\n",
       "      <td>-0.63020</td>\n",
       "      <td>-0.40246</td>\n",
       "      <td>-0.54428</td>\n",
       "    </tr>\n",
       "    <tr>\n",
       "      <th>age</th>\n",
       "      <td>-0.47578</td>\n",
       "      <td>1.00000</td>\n",
       "      <td>0.09103</td>\n",
       "      <td>-0.13205</td>\n",
       "      <td>-0.07913</td>\n",
       "      <td>0.00776</td>\n",
       "      <td>0.26347</td>\n",
       "      <td>0.46735</td>\n",
       "      <td>-0.23130</td>\n",
       "      <td>0.03936</td>\n",
       "      <td>0.08732</td>\n",
       "    </tr>\n",
       "    <tr>\n",
       "      <th>continent</th>\n",
       "      <td>-0.10625</td>\n",
       "      <td>0.09103</td>\n",
       "      <td>1.00000</td>\n",
       "      <td>0.04091</td>\n",
       "      <td>-0.02005</td>\n",
       "      <td>-0.01931</td>\n",
       "      <td>0.01261</td>\n",
       "      <td>0.09949</td>\n",
       "      <td>0.07231</td>\n",
       "      <td>0.01237</td>\n",
       "      <td>0.03955</td>\n",
       "    </tr>\n",
       "    <tr>\n",
       "      <th>contract_until</th>\n",
       "      <td>-0.14320</td>\n",
       "      <td>-0.13205</td>\n",
       "      <td>0.04091</td>\n",
       "      <td>1.00000</td>\n",
       "      <td>0.02008</td>\n",
       "      <td>-0.00476</td>\n",
       "      <td>0.07045</td>\n",
       "      <td>0.15698</td>\n",
       "      <td>0.25848</td>\n",
       "      <td>0.08264</td>\n",
       "      <td>0.22864</td>\n",
       "    </tr>\n",
       "    <tr>\n",
       "      <th>position</th>\n",
       "      <td>-0.01350</td>\n",
       "      <td>-0.07913</td>\n",
       "      <td>-0.02005</td>\n",
       "      <td>0.02008</td>\n",
       "      <td>1.00000</td>\n",
       "      <td>0.10550</td>\n",
       "      <td>0.03122</td>\n",
       "      <td>0.01582</td>\n",
       "      <td>0.06923</td>\n",
       "      <td>0.38402</td>\n",
       "      <td>0.07498</td>\n",
       "    </tr>\n",
       "    <tr>\n",
       "      <th>prefer_foot</th>\n",
       "      <td>0.03721</td>\n",
       "      <td>0.00776</td>\n",
       "      <td>-0.01931</td>\n",
       "      <td>-0.00476</td>\n",
       "      <td>0.10550</td>\n",
       "      <td>1.00000</td>\n",
       "      <td>0.00386</td>\n",
       "      <td>-0.03658</td>\n",
       "      <td>-0.02903</td>\n",
       "      <td>-0.10911</td>\n",
       "      <td>-0.00820</td>\n",
       "    </tr>\n",
       "    <tr>\n",
       "      <th>reputation</th>\n",
       "      <td>-0.42374</td>\n",
       "      <td>0.26347</td>\n",
       "      <td>0.01261</td>\n",
       "      <td>0.07045</td>\n",
       "      <td>0.03122</td>\n",
       "      <td>0.00386</td>\n",
       "      <td>1.00000</td>\n",
       "      <td>0.52139</td>\n",
       "      <td>0.39918</td>\n",
       "      <td>0.19658</td>\n",
       "      <td>0.66598</td>\n",
       "    </tr>\n",
       "    <tr>\n",
       "      <th>stat_overall</th>\n",
       "      <td>-0.97237</td>\n",
       "      <td>0.46735</td>\n",
       "      <td>0.09949</td>\n",
       "      <td>0.15698</td>\n",
       "      <td>0.01582</td>\n",
       "      <td>-0.03658</td>\n",
       "      <td>0.52139</td>\n",
       "      <td>1.00000</td>\n",
       "      <td>0.66545</td>\n",
       "      <td>0.40016</td>\n",
       "      <td>0.65844</td>\n",
       "    </tr>\n",
       "    <tr>\n",
       "      <th>stat_potential</th>\n",
       "      <td>-0.63020</td>\n",
       "      <td>-0.23130</td>\n",
       "      <td>0.07231</td>\n",
       "      <td>0.25848</td>\n",
       "      <td>0.06923</td>\n",
       "      <td>-0.02903</td>\n",
       "      <td>0.39918</td>\n",
       "      <td>0.66545</td>\n",
       "      <td>1.00000</td>\n",
       "      <td>0.33258</td>\n",
       "      <td>0.61191</td>\n",
       "    </tr>\n",
       "    <tr>\n",
       "      <th>stat_skill_moves</th>\n",
       "      <td>-0.40246</td>\n",
       "      <td>0.03936</td>\n",
       "      <td>0.01237</td>\n",
       "      <td>0.08264</td>\n",
       "      <td>0.38402</td>\n",
       "      <td>-0.10911</td>\n",
       "      <td>0.19658</td>\n",
       "      <td>0.40016</td>\n",
       "      <td>0.33258</td>\n",
       "      <td>1.00000</td>\n",
       "      <td>0.29850</td>\n",
       "    </tr>\n",
       "    <tr>\n",
       "      <th>value</th>\n",
       "      <td>-0.54428</td>\n",
       "      <td>0.08732</td>\n",
       "      <td>0.03955</td>\n",
       "      <td>0.22864</td>\n",
       "      <td>0.07498</td>\n",
       "      <td>-0.00820</td>\n",
       "      <td>0.66598</td>\n",
       "      <td>0.65844</td>\n",
       "      <td>0.61191</td>\n",
       "      <td>0.29850</td>\n",
       "      <td>1.00000</td>\n",
       "    </tr>\n",
       "  </tbody>\n",
       "</table>\n",
       "</div>"
      ],
      "text/plain": [
       "                       id      age  continent  contract_until  position  \\\n",
       "id                1.00000 -0.47578   -0.10625        -0.14320  -0.01350   \n",
       "age              -0.47578  1.00000    0.09103        -0.13205  -0.07913   \n",
       "continent        -0.10625  0.09103    1.00000         0.04091  -0.02005   \n",
       "contract_until   -0.14320 -0.13205    0.04091         1.00000   0.02008   \n",
       "position         -0.01350 -0.07913   -0.02005         0.02008   1.00000   \n",
       "prefer_foot       0.03721  0.00776   -0.01931        -0.00476   0.10550   \n",
       "reputation       -0.42374  0.26347    0.01261         0.07045   0.03122   \n",
       "stat_overall     -0.97237  0.46735    0.09949         0.15698   0.01582   \n",
       "stat_potential   -0.63020 -0.23130    0.07231         0.25848   0.06923   \n",
       "stat_skill_moves -0.40246  0.03936    0.01237         0.08264   0.38402   \n",
       "value            -0.54428  0.08732    0.03955         0.22864   0.07498   \n",
       "\n",
       "                  prefer_foot  reputation  stat_overall  stat_potential  \\\n",
       "id                    0.03721    -0.42374      -0.97237        -0.63020   \n",
       "age                   0.00776     0.26347       0.46735        -0.23130   \n",
       "continent            -0.01931     0.01261       0.09949         0.07231   \n",
       "contract_until       -0.00476     0.07045       0.15698         0.25848   \n",
       "position              0.10550     0.03122       0.01582         0.06923   \n",
       "prefer_foot           1.00000     0.00386      -0.03658        -0.02903   \n",
       "reputation            0.00386     1.00000       0.52139         0.39918   \n",
       "stat_overall         -0.03658     0.52139       1.00000         0.66545   \n",
       "stat_potential       -0.02903     0.39918       0.66545         1.00000   \n",
       "stat_skill_moves     -0.10911     0.19658       0.40016         0.33258   \n",
       "value                -0.00820     0.66598       0.65844         0.61191   \n",
       "\n",
       "                  stat_skill_moves    value  \n",
       "id                        -0.40246 -0.54428  \n",
       "age                        0.03936  0.08732  \n",
       "continent                  0.01237  0.03955  \n",
       "contract_until             0.08264  0.22864  \n",
       "position                   0.38402  0.07498  \n",
       "prefer_foot               -0.10911 -0.00820  \n",
       "reputation                 0.19658  0.66598  \n",
       "stat_overall               0.40016  0.65844  \n",
       "stat_potential             0.33258  0.61191  \n",
       "stat_skill_moves           1.00000  0.29850  \n",
       "value                      0.29850  1.00000  "
      ]
     },
     "execution_count": 893,
     "metadata": {},
     "output_type": "execute_result"
    }
   ],
   "source": [
    "train.corr()"
   ]
  },
  {
   "cell_type": "code",
   "execution_count": 894,
   "id": "093cee83",
   "metadata": {},
   "outputs": [],
   "source": [
    "X_train,y_train=train.drop('value',axis=1),train['value']"
   ]
  },
  {
   "cell_type": "code",
   "execution_count": 895,
   "id": "252604ea",
   "metadata": {},
   "outputs": [
    {
     "data": {
      "text/html": [
       "<div>\n",
       "<style scoped>\n",
       "    .dataframe tbody tr th:only-of-type {\n",
       "        vertical-align: middle;\n",
       "    }\n",
       "\n",
       "    .dataframe tbody tr th {\n",
       "        vertical-align: top;\n",
       "    }\n",
       "\n",
       "    .dataframe thead th {\n",
       "        text-align: right;\n",
       "    }\n",
       "</style>\n",
       "<table border=\"1\" class=\"dataframe\">\n",
       "  <thead>\n",
       "    <tr style=\"text-align: right;\">\n",
       "      <th></th>\n",
       "      <th>id</th>\n",
       "      <th>name</th>\n",
       "      <th>age</th>\n",
       "      <th>continent</th>\n",
       "      <th>contract_until</th>\n",
       "      <th>position</th>\n",
       "      <th>prefer_foot</th>\n",
       "      <th>reputation</th>\n",
       "      <th>stat_overall</th>\n",
       "      <th>stat_potential</th>\n",
       "      <th>stat_skill_moves</th>\n",
       "    </tr>\n",
       "  </thead>\n",
       "  <tbody>\n",
       "    <tr>\n",
       "      <th>0</th>\n",
       "      <td>0</td>\n",
       "      <td>L. Messi</td>\n",
       "      <td>31</td>\n",
       "      <td>4</td>\n",
       "      <td>3</td>\n",
       "      <td>3</td>\n",
       "      <td>0</td>\n",
       "      <td>5.00000</td>\n",
       "      <td>94</td>\n",
       "      <td>94</td>\n",
       "      <td>4.00000</td>\n",
       "    </tr>\n",
       "    <tr>\n",
       "      <th>1</th>\n",
       "      <td>3</td>\n",
       "      <td>De Gea</td>\n",
       "      <td>27</td>\n",
       "      <td>2</td>\n",
       "      <td>2</td>\n",
       "      <td>1</td>\n",
       "      <td>1</td>\n",
       "      <td>4.00000</td>\n",
       "      <td>91</td>\n",
       "      <td>93</td>\n",
       "      <td>1.00000</td>\n",
       "    </tr>\n",
       "    <tr>\n",
       "      <th>2</th>\n",
       "      <td>7</td>\n",
       "      <td>L. Suárez</td>\n",
       "      <td>31</td>\n",
       "      <td>4</td>\n",
       "      <td>3</td>\n",
       "      <td>3</td>\n",
       "      <td>1</td>\n",
       "      <td>5.00000</td>\n",
       "      <td>91</td>\n",
       "      <td>91</td>\n",
       "      <td>3.00000</td>\n",
       "    </tr>\n",
       "    <tr>\n",
       "      <th>3</th>\n",
       "      <td>8</td>\n",
       "      <td>Sergio Ramos</td>\n",
       "      <td>32</td>\n",
       "      <td>2</td>\n",
       "      <td>2</td>\n",
       "      <td>0</td>\n",
       "      <td>1</td>\n",
       "      <td>4.00000</td>\n",
       "      <td>91</td>\n",
       "      <td>91</td>\n",
       "      <td>3.00000</td>\n",
       "    </tr>\n",
       "    <tr>\n",
       "      <th>4</th>\n",
       "      <td>9</td>\n",
       "      <td>J. Oblak</td>\n",
       "      <td>25</td>\n",
       "      <td>2</td>\n",
       "      <td>3</td>\n",
       "      <td>1</td>\n",
       "      <td>1</td>\n",
       "      <td>3.00000</td>\n",
       "      <td>90</td>\n",
       "      <td>93</td>\n",
       "      <td>1.00000</td>\n",
       "    </tr>\n",
       "    <tr>\n",
       "      <th>...</th>\n",
       "      <td>...</td>\n",
       "      <td>...</td>\n",
       "      <td>...</td>\n",
       "      <td>...</td>\n",
       "      <td>...</td>\n",
       "      <td>...</td>\n",
       "      <td>...</td>\n",
       "      <td>...</td>\n",
       "      <td>...</td>\n",
       "      <td>...</td>\n",
       "      <td>...</td>\n",
       "    </tr>\n",
       "    <tr>\n",
       "      <th>8927</th>\n",
       "      <td>16925</td>\n",
       "      <td>S. Adewusi</td>\n",
       "      <td>18</td>\n",
       "      <td>0</td>\n",
       "      <td>1</td>\n",
       "      <td>2</td>\n",
       "      <td>1</td>\n",
       "      <td>1.00000</td>\n",
       "      <td>48</td>\n",
       "      <td>63</td>\n",
       "      <td>3.00000</td>\n",
       "    </tr>\n",
       "    <tr>\n",
       "      <th>8928</th>\n",
       "      <td>16936</td>\n",
       "      <td>C. Ehlich</td>\n",
       "      <td>19</td>\n",
       "      <td>2</td>\n",
       "      <td>2</td>\n",
       "      <td>0</td>\n",
       "      <td>1</td>\n",
       "      <td>1.00000</td>\n",
       "      <td>47</td>\n",
       "      <td>59</td>\n",
       "      <td>2.00000</td>\n",
       "    </tr>\n",
       "    <tr>\n",
       "      <th>8929</th>\n",
       "      <td>16941</td>\n",
       "      <td>N. Fuentes</td>\n",
       "      <td>18</td>\n",
       "      <td>4</td>\n",
       "      <td>3</td>\n",
       "      <td>0</td>\n",
       "      <td>1</td>\n",
       "      <td>1.00000</td>\n",
       "      <td>47</td>\n",
       "      <td>64</td>\n",
       "      <td>2.00000</td>\n",
       "    </tr>\n",
       "    <tr>\n",
       "      <th>8930</th>\n",
       "      <td>16942</td>\n",
       "      <td>J. Milli</td>\n",
       "      <td>18</td>\n",
       "      <td>2</td>\n",
       "      <td>3</td>\n",
       "      <td>1</td>\n",
       "      <td>1</td>\n",
       "      <td>1.00000</td>\n",
       "      <td>47</td>\n",
       "      <td>65</td>\n",
       "      <td>1.00000</td>\n",
       "    </tr>\n",
       "    <tr>\n",
       "      <th>8931</th>\n",
       "      <td>16948</td>\n",
       "      <td>N. Christoffersson</td>\n",
       "      <td>19</td>\n",
       "      <td>2</td>\n",
       "      <td>2</td>\n",
       "      <td>3</td>\n",
       "      <td>1</td>\n",
       "      <td>1.00000</td>\n",
       "      <td>47</td>\n",
       "      <td>63</td>\n",
       "      <td>2.00000</td>\n",
       "    </tr>\n",
       "  </tbody>\n",
       "</table>\n",
       "<p>8932 rows × 11 columns</p>\n",
       "</div>"
      ],
      "text/plain": [
       "         id                name  age  continent  contract_until  position  \\\n",
       "0         0            L. Messi   31          4               3         3   \n",
       "1         3              De Gea   27          2               2         1   \n",
       "2         7           L. Suárez   31          4               3         3   \n",
       "3         8        Sergio Ramos   32          2               2         0   \n",
       "4         9            J. Oblak   25          2               3         1   \n",
       "...     ...                 ...  ...        ...             ...       ...   \n",
       "8927  16925          S. Adewusi   18          0               1         2   \n",
       "8928  16936           C. Ehlich   19          2               2         0   \n",
       "8929  16941          N. Fuentes   18          4               3         0   \n",
       "8930  16942            J. Milli   18          2               3         1   \n",
       "8931  16948  N. Christoffersson   19          2               2         3   \n",
       "\n",
       "      prefer_foot  reputation  stat_overall  stat_potential  stat_skill_moves  \n",
       "0               0     5.00000            94              94           4.00000  \n",
       "1               1     4.00000            91              93           1.00000  \n",
       "2               1     5.00000            91              91           3.00000  \n",
       "3               1     4.00000            91              91           3.00000  \n",
       "4               1     3.00000            90              93           1.00000  \n",
       "...           ...         ...           ...             ...               ...  \n",
       "8927            1     1.00000            48              63           3.00000  \n",
       "8928            1     1.00000            47              59           2.00000  \n",
       "8929            1     1.00000            47              64           2.00000  \n",
       "8930            1     1.00000            47              65           1.00000  \n",
       "8931            1     1.00000            47              63           2.00000  \n",
       "\n",
       "[8932 rows x 11 columns]"
      ]
     },
     "execution_count": 895,
     "metadata": {},
     "output_type": "execute_result"
    }
   ],
   "source": [
    "X_train"
   ]
  },
  {
   "cell_type": "code",
   "execution_count": 896,
   "id": "a7d656f1",
   "metadata": {},
   "outputs": [
    {
     "data": {
      "text/plain": [
       "<matplotlib.collections.PathCollection at 0x2020bbf7c70>"
      ]
     },
     "execution_count": 896,
     "metadata": {},
     "output_type": "execute_result"
    },
    {
     "data": {
      "image/png": "[encoded data removed]",
      "text/plain": [
       "<Figure size 432x288 with 1 Axes>"
      ]
     },
     "metadata": {
      "needs_background": "light"
     },
     "output_type": "display_data"
    }
   ],
   "source": [
    "plt.scatter(train['stat_overall'],train['value'])"
   ]
  },
  {
   "cell_type": "code",
   "execution_count": 897,
   "id": "fdb41008",
   "metadata": {},
   "outputs": [
    {
     "data": {
      "text/plain": [
       "<matplotlib.collections.PathCollection at 0x2020c4d6ca0>"
      ]
     },
     "execution_count": 897,
     "metadata": {},
     "output_type": "execute_result"
    },
    {
     "data": {
      "image/png": "[encoded data removed]",
      "text/plain": [
       "<Figure size 432x288 with 1 Axes>"
      ]
     },
     "metadata": {
      "needs_background": "light"
     },
     "output_type": "display_data"
    }
   ],
   "source": [
    "plt.scatter(train['stat_overall'],train['stat_potential'])"
   ]
  },
  {
   "cell_type": "code",
   "execution_count": 898,
   "id": "19562c38",
   "metadata": {},
   "outputs": [],
   "source": [
    "train=train.drop('name',axis=1)"
   ]
  },
  {
   "cell_type": "code",
   "execution_count": 899,
   "id": "16da4120",
   "metadata": {},
   "outputs": [
    {
     "data": {
      "text/html": [
       "<div>\n",
       "<style scoped>\n",
       "    .dataframe tbody tr th:only-of-type {\n",
       "        vertical-align: middle;\n",
       "    }\n",
       "\n",
       "    .dataframe tbody tr th {\n",
       "        vertical-align: top;\n",
       "    }\n",
       "\n",
       "    .dataframe thead th {\n",
       "        text-align: right;\n",
       "    }\n",
       "</style>\n",
       "<table border=\"1\" class=\"dataframe\">\n",
       "  <thead>\n",
       "    <tr style=\"text-align: right;\">\n",
       "      <th></th>\n",
       "      <th>id</th>\n",
       "      <th>age</th>\n",
       "      <th>continent</th>\n",
       "      <th>contract_until</th>\n",
       "      <th>position</th>\n",
       "      <th>prefer_foot</th>\n",
       "      <th>reputation</th>\n",
       "      <th>stat_overall</th>\n",
       "      <th>stat_potential</th>\n",
       "      <th>stat_skill_moves</th>\n",
       "      <th>value</th>\n",
       "    </tr>\n",
       "  </thead>\n",
       "  <tbody>\n",
       "    <tr>\n",
       "      <th>0</th>\n",
       "      <td>0</td>\n",
       "      <td>31</td>\n",
       "      <td>4</td>\n",
       "      <td>3</td>\n",
       "      <td>3</td>\n",
       "      <td>0</td>\n",
       "      <td>5.00000</td>\n",
       "      <td>94</td>\n",
       "      <td>94</td>\n",
       "      <td>4.00000</td>\n",
       "      <td>110500000.00000</td>\n",
       "    </tr>\n",
       "    <tr>\n",
       "      <th>1</th>\n",
       "      <td>3</td>\n",
       "      <td>27</td>\n",
       "      <td>2</td>\n",
       "      <td>2</td>\n",
       "      <td>1</td>\n",
       "      <td>1</td>\n",
       "      <td>4.00000</td>\n",
       "      <td>91</td>\n",
       "      <td>93</td>\n",
       "      <td>1.00000</td>\n",
       "      <td>72000000.00000</td>\n",
       "    </tr>\n",
       "    <tr>\n",
       "      <th>2</th>\n",
       "      <td>7</td>\n",
       "      <td>31</td>\n",
       "      <td>4</td>\n",
       "      <td>3</td>\n",
       "      <td>3</td>\n",
       "      <td>1</td>\n",
       "      <td>5.00000</td>\n",
       "      <td>91</td>\n",
       "      <td>91</td>\n",
       "      <td>3.00000</td>\n",
       "      <td>80000000.00000</td>\n",
       "    </tr>\n",
       "    <tr>\n",
       "      <th>3</th>\n",
       "      <td>8</td>\n",
       "      <td>32</td>\n",
       "      <td>2</td>\n",
       "      <td>2</td>\n",
       "      <td>0</td>\n",
       "      <td>1</td>\n",
       "      <td>4.00000</td>\n",
       "      <td>91</td>\n",
       "      <td>91</td>\n",
       "      <td>3.00000</td>\n",
       "      <td>51000000.00000</td>\n",
       "    </tr>\n",
       "    <tr>\n",
       "      <th>4</th>\n",
       "      <td>9</td>\n",
       "      <td>25</td>\n",
       "      <td>2</td>\n",
       "      <td>3</td>\n",
       "      <td>1</td>\n",
       "      <td>1</td>\n",
       "      <td>3.00000</td>\n",
       "      <td>90</td>\n",
       "      <td>93</td>\n",
       "      <td>1.00000</td>\n",
       "      <td>68000000.00000</td>\n",
       "    </tr>\n",
       "    <tr>\n",
       "      <th>...</th>\n",
       "      <td>...</td>\n",
       "      <td>...</td>\n",
       "      <td>...</td>\n",
       "      <td>...</td>\n",
       "      <td>...</td>\n",
       "      <td>...</td>\n",
       "      <td>...</td>\n",
       "      <td>...</td>\n",
       "      <td>...</td>\n",
       "      <td>...</td>\n",
       "      <td>...</td>\n",
       "    </tr>\n",
       "    <tr>\n",
       "      <th>8927</th>\n",
       "      <td>16925</td>\n",
       "      <td>18</td>\n",
       "      <td>0</td>\n",
       "      <td>1</td>\n",
       "      <td>2</td>\n",
       "      <td>1</td>\n",
       "      <td>1.00000</td>\n",
       "      <td>48</td>\n",
       "      <td>63</td>\n",
       "      <td>3.00000</td>\n",
       "      <td>60000.00000</td>\n",
       "    </tr>\n",
       "    <tr>\n",
       "      <th>8928</th>\n",
       "      <td>16936</td>\n",
       "      <td>19</td>\n",
       "      <td>2</td>\n",
       "      <td>2</td>\n",
       "      <td>0</td>\n",
       "      <td>1</td>\n",
       "      <td>1.00000</td>\n",
       "      <td>47</td>\n",
       "      <td>59</td>\n",
       "      <td>2.00000</td>\n",
       "      <td>40000.00000</td>\n",
       "    </tr>\n",
       "    <tr>\n",
       "      <th>8929</th>\n",
       "      <td>16941</td>\n",
       "      <td>18</td>\n",
       "      <td>4</td>\n",
       "      <td>3</td>\n",
       "      <td>0</td>\n",
       "      <td>1</td>\n",
       "      <td>1.00000</td>\n",
       "      <td>47</td>\n",
       "      <td>64</td>\n",
       "      <td>2.00000</td>\n",
       "      <td>50000.00000</td>\n",
       "    </tr>\n",
       "    <tr>\n",
       "      <th>8930</th>\n",
       "      <td>16942</td>\n",
       "      <td>18</td>\n",
       "      <td>2</td>\n",
       "      <td>3</td>\n",
       "      <td>1</td>\n",
       "      <td>1</td>\n",
       "      <td>1.00000</td>\n",
       "      <td>47</td>\n",
       "      <td>65</td>\n",
       "      <td>1.00000</td>\n",
       "      <td>50000.00000</td>\n",
       "    </tr>\n",
       "    <tr>\n",
       "      <th>8931</th>\n",
       "      <td>16948</td>\n",
       "      <td>19</td>\n",
       "      <td>2</td>\n",
       "      <td>2</td>\n",
       "      <td>3</td>\n",
       "      <td>1</td>\n",
       "      <td>1.00000</td>\n",
       "      <td>47</td>\n",
       "      <td>63</td>\n",
       "      <td>2.00000</td>\n",
       "      <td>60000.00000</td>\n",
       "    </tr>\n",
       "  </tbody>\n",
       "</table>\n",
       "<p>8932 rows × 11 columns</p>\n",
       "</div>"
      ],
      "text/plain": [
       "         id  age  continent  contract_until  position  prefer_foot  \\\n",
       "0         0   31          4               3         3            0   \n",
       "1         3   27          2               2         1            1   \n",
       "2         7   31          4               3         3            1   \n",
       "3         8   32          2               2         0            1   \n",
       "4         9   25          2               3         1            1   \n",
       "...     ...  ...        ...             ...       ...          ...   \n",
       "8927  16925   18          0               1         2            1   \n",
       "8928  16936   19          2               2         0            1   \n",
       "8929  16941   18          4               3         0            1   \n",
       "8930  16942   18          2               3         1            1   \n",
       "8931  16948   19          2               2         3            1   \n",
       "\n",
       "      reputation  stat_overall  stat_potential  stat_skill_moves  \\\n",
       "0        5.00000            94              94           4.00000   \n",
       "1        4.00000            91              93           1.00000   \n",
       "2        5.00000            91              91           3.00000   \n",
       "3        4.00000            91              91           3.00000   \n",
       "4        3.00000            90              93           1.00000   \n",
       "...          ...           ...             ...               ...   \n",
       "8927     1.00000            48              63           3.00000   \n",
       "8928     1.00000            47              59           2.00000   \n",
       "8929     1.00000            47              64           2.00000   \n",
       "8930     1.00000            47              65           1.00000   \n",
       "8931     1.00000            47              63           2.00000   \n",
       "\n",
       "               value  \n",
       "0    110500000.00000  \n",
       "1     72000000.00000  \n",
       "2     80000000.00000  \n",
       "3     51000000.00000  \n",
       "4     68000000.00000  \n",
       "...              ...  \n",
       "8927     60000.00000  \n",
       "8928     40000.00000  \n",
       "8929     50000.00000  \n",
       "8930     50000.00000  \n",
       "8931     60000.00000  \n",
       "\n",
       "[8932 rows x 11 columns]"
      ]
     },
     "execution_count": 899,
     "metadata": {},
     "output_type": "execute_result"
    }
   ],
   "source": [
    "train"
   ]
  },
  {
   "cell_type": "code",
   "execution_count": 900,
   "id": "d200cbfa",
   "metadata": {},
   "outputs": [
    {
     "name": "stdout",
     "output_type": "stream",
     "text": [
      "<class 'pandas.core.frame.DataFrame'>\n",
      "RangeIndex: 8932 entries, 0 to 8931\n",
      "Data columns (total 11 columns):\n",
      " #   Column            Non-Null Count  Dtype  \n",
      "---  ------            --------------  -----  \n",
      " 0   id                8932 non-null   int64  \n",
      " 1   name              8932 non-null   object \n",
      " 2   age               8932 non-null   int64  \n",
      " 3   continent         8932 non-null   int32  \n",
      " 4   contract_until    8932 non-null   int32  \n",
      " 5   position          8932 non-null   int32  \n",
      " 6   prefer_foot       8932 non-null   int32  \n",
      " 7   reputation        8932 non-null   float64\n",
      " 8   stat_overall      8932 non-null   int64  \n",
      " 9   stat_potential    8932 non-null   int64  \n",
      " 10  stat_skill_moves  8932 non-null   float64\n",
      "dtypes: float64(2), int32(4), int64(4), object(1)\n",
      "memory usage: 628.2+ KB\n"
     ]
    }
   ],
   "source": [
    "X_train.info()"
   ]
  },
  {
   "cell_type": "code",
   "execution_count": 901,
   "id": "fff063e8",
   "metadata": {},
   "outputs": [
    {
     "name": "stdout",
     "output_type": "stream",
     "text": [
      "<class 'pandas.core.frame.DataFrame'>\n",
      "RangeIndex: 8932 entries, 0 to 8931\n",
      "Data columns (total 11 columns):\n",
      " #   Column            Non-Null Count  Dtype  \n",
      "---  ------            --------------  -----  \n",
      " 0   id                8932 non-null   int64  \n",
      " 1   name              8932 non-null   object \n",
      " 2   age               8932 non-null   int64  \n",
      " 3   continent         8932 non-null   int32  \n",
      " 4   contract_until    8932 non-null   int32  \n",
      " 5   position          8932 non-null   int32  \n",
      " 6   prefer_foot       8932 non-null   int32  \n",
      " 7   reputation        8932 non-null   float64\n",
      " 8   stat_overall      8932 non-null   int64  \n",
      " 9   stat_potential    8932 non-null   int64  \n",
      " 10  stat_skill_moves  8932 non-null   float64\n",
      "dtypes: float64(2), int32(4), int64(4), object(1)\n",
      "memory usage: 628.2+ KB\n"
     ]
    }
   ],
   "source": [
    "X_train.info()"
   ]
  },
  {
   "cell_type": "code",
   "execution_count": 902,
   "id": "956a1e96",
   "metadata": {
    "scrolled": true
   },
   "outputs": [
    {
     "data": {
      "text/plain": [
       "array([5., 4., 3., 1., 2.])"
      ]
     },
     "execution_count": 902,
     "metadata": {},
     "output_type": "execute_result"
    }
   ],
   "source": [
    "X_train['reputation'].unique()"
   ]
  },
  {
   "cell_type": "code",
   "execution_count": 903,
   "id": "b87d7c2b",
   "metadata": {},
   "outputs": [],
   "source": [
    "X_train=X_train.drop(\"name\",axis=1)"
   ]
  },
  {
   "cell_type": "code",
   "execution_count": 904,
   "id": "4572f46e",
   "metadata": {},
   "outputs": [
    {
     "data": {
      "text/plain": [
       "array([4., 1., 3., 2., 5.])"
      ]
     },
     "execution_count": 904,
     "metadata": {},
     "output_type": "execute_result"
    }
   ],
   "source": [
    "X_train['stat_skill_moves'].unique()"
   ]
  },
  {
   "cell_type": "code",
   "execution_count": 905,
   "id": "be1ad356",
   "metadata": {},
   "outputs": [],
   "source": [
    "X_train=X_train.astype(\"int\")"
   ]
  },
  {
   "cell_type": "code",
   "execution_count": 906,
   "id": "464ad2e5",
   "metadata": {},
   "outputs": [
    {
     "name": "stdout",
     "output_type": "stream",
     "text": [
      "<class 'pandas.core.frame.DataFrame'>\n",
      "RangeIndex: 8932 entries, 0 to 8931\n",
      "Data columns (total 10 columns):\n",
      " #   Column            Non-Null Count  Dtype\n",
      "---  ------            --------------  -----\n",
      " 0   id                8932 non-null   int32\n",
      " 1   age               8932 non-null   int32\n",
      " 2   continent         8932 non-null   int32\n",
      " 3   contract_until    8932 non-null   int32\n",
      " 4   position          8932 non-null   int32\n",
      " 5   prefer_foot       8932 non-null   int32\n",
      " 6   reputation        8932 non-null   int32\n",
      " 7   stat_overall      8932 non-null   int32\n",
      " 8   stat_potential    8932 non-null   int32\n",
      " 9   stat_skill_moves  8932 non-null   int32\n",
      "dtypes: int32(10)\n",
      "memory usage: 349.0 KB\n"
     ]
    }
   ],
   "source": [
    "X_train.info()"
   ]
  },
  {
   "cell_type": "code",
   "execution_count": 907,
   "id": "f76f51b2",
   "metadata": {},
   "outputs": [
    {
     "data": {
      "text/html": [
       "<div>\n",
       "<style scoped>\n",
       "    .dataframe tbody tr th:only-of-type {\n",
       "        vertical-align: middle;\n",
       "    }\n",
       "\n",
       "    .dataframe tbody tr th {\n",
       "        vertical-align: top;\n",
       "    }\n",
       "\n",
       "    .dataframe thead th {\n",
       "        text-align: right;\n",
       "    }\n",
       "</style>\n",
       "<table border=\"1\" class=\"dataframe\">\n",
       "  <thead>\n",
       "    <tr style=\"text-align: right;\">\n",
       "      <th></th>\n",
       "      <th>age</th>\n",
       "      <th>continent</th>\n",
       "      <th>contract_until</th>\n",
       "      <th>position</th>\n",
       "      <th>prefer_foot</th>\n",
       "      <th>reputation</th>\n",
       "      <th>stat_overall</th>\n",
       "      <th>stat_potential</th>\n",
       "      <th>stat_skill_moves</th>\n",
       "    </tr>\n",
       "  </thead>\n",
       "  <tbody>\n",
       "    <tr>\n",
       "      <th>0</th>\n",
       "      <td>31</td>\n",
       "      <td>4</td>\n",
       "      <td>3</td>\n",
       "      <td>3</td>\n",
       "      <td>0</td>\n",
       "      <td>5</td>\n",
       "      <td>94</td>\n",
       "      <td>94</td>\n",
       "      <td>4</td>\n",
       "    </tr>\n",
       "    <tr>\n",
       "      <th>1</th>\n",
       "      <td>27</td>\n",
       "      <td>2</td>\n",
       "      <td>2</td>\n",
       "      <td>1</td>\n",
       "      <td>1</td>\n",
       "      <td>4</td>\n",
       "      <td>91</td>\n",
       "      <td>93</td>\n",
       "      <td>1</td>\n",
       "    </tr>\n",
       "    <tr>\n",
       "      <th>2</th>\n",
       "      <td>31</td>\n",
       "      <td>4</td>\n",
       "      <td>3</td>\n",
       "      <td>3</td>\n",
       "      <td>1</td>\n",
       "      <td>5</td>\n",
       "      <td>91</td>\n",
       "      <td>91</td>\n",
       "      <td>3</td>\n",
       "    </tr>\n",
       "    <tr>\n",
       "      <th>3</th>\n",
       "      <td>32</td>\n",
       "      <td>2</td>\n",
       "      <td>2</td>\n",
       "      <td>0</td>\n",
       "      <td>1</td>\n",
       "      <td>4</td>\n",
       "      <td>91</td>\n",
       "      <td>91</td>\n",
       "      <td>3</td>\n",
       "    </tr>\n",
       "    <tr>\n",
       "      <th>4</th>\n",
       "      <td>25</td>\n",
       "      <td>2</td>\n",
       "      <td>3</td>\n",
       "      <td>1</td>\n",
       "      <td>1</td>\n",
       "      <td>3</td>\n",
       "      <td>90</td>\n",
       "      <td>93</td>\n",
       "      <td>1</td>\n",
       "    </tr>\n",
       "    <tr>\n",
       "      <th>...</th>\n",
       "      <td>...</td>\n",
       "      <td>...</td>\n",
       "      <td>...</td>\n",
       "      <td>...</td>\n",
       "      <td>...</td>\n",
       "      <td>...</td>\n",
       "      <td>...</td>\n",
       "      <td>...</td>\n",
       "      <td>...</td>\n",
       "    </tr>\n",
       "    <tr>\n",
       "      <th>8927</th>\n",
       "      <td>18</td>\n",
       "      <td>0</td>\n",
       "      <td>1</td>\n",
       "      <td>2</td>\n",
       "      <td>1</td>\n",
       "      <td>1</td>\n",
       "      <td>48</td>\n",
       "      <td>63</td>\n",
       "      <td>3</td>\n",
       "    </tr>\n",
       "    <tr>\n",
       "      <th>8928</th>\n",
       "      <td>19</td>\n",
       "      <td>2</td>\n",
       "      <td>2</td>\n",
       "      <td>0</td>\n",
       "      <td>1</td>\n",
       "      <td>1</td>\n",
       "      <td>47</td>\n",
       "      <td>59</td>\n",
       "      <td>2</td>\n",
       "    </tr>\n",
       "    <tr>\n",
       "      <th>8929</th>\n",
       "      <td>18</td>\n",
       "      <td>4</td>\n",
       "      <td>3</td>\n",
       "      <td>0</td>\n",
       "      <td>1</td>\n",
       "      <td>1</td>\n",
       "      <td>47</td>\n",
       "      <td>64</td>\n",
       "      <td>2</td>\n",
       "    </tr>\n",
       "    <tr>\n",
       "      <th>8930</th>\n",
       "      <td>18</td>\n",
       "      <td>2</td>\n",
       "      <td>3</td>\n",
       "      <td>1</td>\n",
       "      <td>1</td>\n",
       "      <td>1</td>\n",
       "      <td>47</td>\n",
       "      <td>65</td>\n",
       "      <td>1</td>\n",
       "    </tr>\n",
       "    <tr>\n",
       "      <th>8931</th>\n",
       "      <td>19</td>\n",
       "      <td>2</td>\n",
       "      <td>2</td>\n",
       "      <td>3</td>\n",
       "      <td>1</td>\n",
       "      <td>1</td>\n",
       "      <td>47</td>\n",
       "      <td>63</td>\n",
       "      <td>2</td>\n",
       "    </tr>\n",
       "  </tbody>\n",
       "</table>\n",
       "<p>8932 rows × 9 columns</p>\n",
       "</div>"
      ],
      "text/plain": [
       "      age  continent  contract_until  position  prefer_foot  reputation  \\\n",
       "0      31          4               3         3            0           5   \n",
       "1      27          2               2         1            1           4   \n",
       "2      31          4               3         3            1           5   \n",
       "3      32          2               2         0            1           4   \n",
       "4      25          2               3         1            1           3   \n",
       "...   ...        ...             ...       ...          ...         ...   \n",
       "8927   18          0               1         2            1           1   \n",
       "8928   19          2               2         0            1           1   \n",
       "8929   18          4               3         0            1           1   \n",
       "8930   18          2               3         1            1           1   \n",
       "8931   19          2               2         3            1           1   \n",
       "\n",
       "      stat_overall  stat_potential  stat_skill_moves  \n",
       "0               94              94                 4  \n",
       "1               91              93                 1  \n",
       "2               91              91                 3  \n",
       "3               91              91                 3  \n",
       "4               90              93                 1  \n",
       "...            ...             ...               ...  \n",
       "8927            48              63                 3  \n",
       "8928            47              59                 2  \n",
       "8929            47              64                 2  \n",
       "8930            47              65                 1  \n",
       "8931            47              63                 2  \n",
       "\n",
       "[8932 rows x 9 columns]"
      ]
     },
     "execution_count": 907,
     "metadata": {},
     "output_type": "execute_result"
    }
   ],
   "source": [
    "X_train=X_train.drop('id',axis=1)\n",
    "X_train"
   ]
  },
  {
   "cell_type": "code",
   "execution_count": 908,
   "id": "cc60323f",
   "metadata": {},
   "outputs": [],
   "source": [
    "train=train.drop('id',axis=1)"
   ]
  },
  {
   "cell_type": "code",
   "execution_count": 909,
   "id": "c4762027",
   "metadata": {
    "scrolled": true
   },
   "outputs": [
    {
     "data": {
      "text/html": [
       "<div>\n",
       "<style scoped>\n",
       "    .dataframe tbody tr th:only-of-type {\n",
       "        vertical-align: middle;\n",
       "    }\n",
       "\n",
       "    .dataframe tbody tr th {\n",
       "        vertical-align: top;\n",
       "    }\n",
       "\n",
       "    .dataframe thead th {\n",
       "        text-align: right;\n",
       "    }\n",
       "</style>\n",
       "<table border=\"1\" class=\"dataframe\">\n",
       "  <thead>\n",
       "    <tr style=\"text-align: right;\">\n",
       "      <th></th>\n",
       "      <th>age</th>\n",
       "      <th>continent</th>\n",
       "      <th>contract_until</th>\n",
       "      <th>position</th>\n",
       "      <th>prefer_foot</th>\n",
       "      <th>reputation</th>\n",
       "      <th>stat_overall</th>\n",
       "      <th>stat_potential</th>\n",
       "      <th>stat_skill_moves</th>\n",
       "      <th>value</th>\n",
       "    </tr>\n",
       "  </thead>\n",
       "  <tbody>\n",
       "    <tr>\n",
       "      <th>0</th>\n",
       "      <td>31</td>\n",
       "      <td>4</td>\n",
       "      <td>3</td>\n",
       "      <td>3</td>\n",
       "      <td>0</td>\n",
       "      <td>5</td>\n",
       "      <td>94</td>\n",
       "      <td>94</td>\n",
       "      <td>4</td>\n",
       "      <td>110500000</td>\n",
       "    </tr>\n",
       "    <tr>\n",
       "      <th>1</th>\n",
       "      <td>27</td>\n",
       "      <td>2</td>\n",
       "      <td>2</td>\n",
       "      <td>1</td>\n",
       "      <td>1</td>\n",
       "      <td>4</td>\n",
       "      <td>91</td>\n",
       "      <td>93</td>\n",
       "      <td>1</td>\n",
       "      <td>72000000</td>\n",
       "    </tr>\n",
       "    <tr>\n",
       "      <th>2</th>\n",
       "      <td>31</td>\n",
       "      <td>4</td>\n",
       "      <td>3</td>\n",
       "      <td>3</td>\n",
       "      <td>1</td>\n",
       "      <td>5</td>\n",
       "      <td>91</td>\n",
       "      <td>91</td>\n",
       "      <td>3</td>\n",
       "      <td>80000000</td>\n",
       "    </tr>\n",
       "    <tr>\n",
       "      <th>3</th>\n",
       "      <td>32</td>\n",
       "      <td>2</td>\n",
       "      <td>2</td>\n",
       "      <td>0</td>\n",
       "      <td>1</td>\n",
       "      <td>4</td>\n",
       "      <td>91</td>\n",
       "      <td>91</td>\n",
       "      <td>3</td>\n",
       "      <td>51000000</td>\n",
       "    </tr>\n",
       "    <tr>\n",
       "      <th>4</th>\n",
       "      <td>25</td>\n",
       "      <td>2</td>\n",
       "      <td>3</td>\n",
       "      <td>1</td>\n",
       "      <td>1</td>\n",
       "      <td>3</td>\n",
       "      <td>90</td>\n",
       "      <td>93</td>\n",
       "      <td>1</td>\n",
       "      <td>68000000</td>\n",
       "    </tr>\n",
       "    <tr>\n",
       "      <th>...</th>\n",
       "      <td>...</td>\n",
       "      <td>...</td>\n",
       "      <td>...</td>\n",
       "      <td>...</td>\n",
       "      <td>...</td>\n",
       "      <td>...</td>\n",
       "      <td>...</td>\n",
       "      <td>...</td>\n",
       "      <td>...</td>\n",
       "      <td>...</td>\n",
       "    </tr>\n",
       "    <tr>\n",
       "      <th>8927</th>\n",
       "      <td>18</td>\n",
       "      <td>0</td>\n",
       "      <td>1</td>\n",
       "      <td>2</td>\n",
       "      <td>1</td>\n",
       "      <td>1</td>\n",
       "      <td>48</td>\n",
       "      <td>63</td>\n",
       "      <td>3</td>\n",
       "      <td>60000</td>\n",
       "    </tr>\n",
       "    <tr>\n",
       "      <th>8928</th>\n",
       "      <td>19</td>\n",
       "      <td>2</td>\n",
       "      <td>2</td>\n",
       "      <td>0</td>\n",
       "      <td>1</td>\n",
       "      <td>1</td>\n",
       "      <td>47</td>\n",
       "      <td>59</td>\n",
       "      <td>2</td>\n",
       "      <td>40000</td>\n",
       "    </tr>\n",
       "    <tr>\n",
       "      <th>8929</th>\n",
       "      <td>18</td>\n",
       "      <td>4</td>\n",
       "      <td>3</td>\n",
       "      <td>0</td>\n",
       "      <td>1</td>\n",
       "      <td>1</td>\n",
       "      <td>47</td>\n",
       "      <td>64</td>\n",
       "      <td>2</td>\n",
       "      <td>50000</td>\n",
       "    </tr>\n",
       "    <tr>\n",
       "      <th>8930</th>\n",
       "      <td>18</td>\n",
       "      <td>2</td>\n",
       "      <td>3</td>\n",
       "      <td>1</td>\n",
       "      <td>1</td>\n",
       "      <td>1</td>\n",
       "      <td>47</td>\n",
       "      <td>65</td>\n",
       "      <td>1</td>\n",
       "      <td>50000</td>\n",
       "    </tr>\n",
       "    <tr>\n",
       "      <th>8931</th>\n",
       "      <td>19</td>\n",
       "      <td>2</td>\n",
       "      <td>2</td>\n",
       "      <td>3</td>\n",
       "      <td>1</td>\n",
       "      <td>1</td>\n",
       "      <td>47</td>\n",
       "      <td>63</td>\n",
       "      <td>2</td>\n",
       "      <td>60000</td>\n",
       "    </tr>\n",
       "  </tbody>\n",
       "</table>\n",
       "<p>8932 rows × 10 columns</p>\n",
       "</div>"
      ],
      "text/plain": [
       "      age  continent  contract_until  position  prefer_foot  reputation  \\\n",
       "0      31          4               3         3            0           5   \n",
       "1      27          2               2         1            1           4   \n",
       "2      31          4               3         3            1           5   \n",
       "3      32          2               2         0            1           4   \n",
       "4      25          2               3         1            1           3   \n",
       "...   ...        ...             ...       ...          ...         ...   \n",
       "8927   18          0               1         2            1           1   \n",
       "8928   19          2               2         0            1           1   \n",
       "8929   18          4               3         0            1           1   \n",
       "8930   18          2               3         1            1           1   \n",
       "8931   19          2               2         3            1           1   \n",
       "\n",
       "      stat_overall  stat_potential  stat_skill_moves      value  \n",
       "0               94              94                 4  110500000  \n",
       "1               91              93                 1   72000000  \n",
       "2               91              91                 3   80000000  \n",
       "3               91              91                 3   51000000  \n",
       "4               90              93                 1   68000000  \n",
       "...            ...             ...               ...        ...  \n",
       "8927            48              63                 3      60000  \n",
       "8928            47              59                 2      40000  \n",
       "8929            47              64                 2      50000  \n",
       "8930            47              65                 1      50000  \n",
       "8931            47              63                 2      60000  \n",
       "\n",
       "[8932 rows x 10 columns]"
      ]
     },
     "execution_count": 909,
     "metadata": {},
     "output_type": "execute_result"
    }
   ],
   "source": [
    "train=train.astype('int')\n",
    "train"
   ]
  },
  {
   "cell_type": "code",
   "execution_count": 910,
   "id": "dbe9de36",
   "metadata": {},
   "outputs": [
    {
     "data": {
      "text/plain": [
       "array([[<AxesSubplot:title={'center':'age'}>,\n",
       "        <AxesSubplot:title={'center':'continent'}>,\n",
       "        <AxesSubplot:title={'center':'contract_until'}>],\n",
       "       [<AxesSubplot:title={'center':'position'}>,\n",
       "        <AxesSubplot:title={'center':'prefer_foot'}>,\n",
       "        <AxesSubplot:title={'center':'reputation'}>],\n",
       "       [<AxesSubplot:title={'center':'stat_overall'}>,\n",
       "        <AxesSubplot:title={'center':'stat_potential'}>,\n",
       "        <AxesSubplot:title={'center':'stat_skill_moves'}>]], dtype=object)"
      ]
     },
     "execution_count": 910,
     "metadata": {},
     "output_type": "execute_result"
    },
    {
     "data": {
      "image/png": "[encoded data removed]",
      "text/plain": [
       "<Figure size 432x288 with 9 Axes>"
      ]
     },
     "metadata": {
      "needs_background": "light"
     },
     "output_type": "display_data"
    }
   ],
   "source": [
    "X_train.hist()"
   ]
  },
  {
   "cell_type": "code",
   "execution_count": 911,
   "id": "d0045c8e",
   "metadata": {},
   "outputs": [
    {
     "data": {
      "text/plain": [
       "<AxesSubplot:>"
      ]
     },
     "execution_count": 911,
     "metadata": {},
     "output_type": "execute_result"
    },
    {
     "data": {
      "image/png": "[encoded data removed]",
      "text/plain": [
       "<Figure size 432x288 with 1 Axes>"
      ]
     },
     "metadata": {
      "needs_background": "light"
     },
     "output_type": "display_data"
    }
   ],
   "source": [
    "X_train['age'].hist()"
   ]
  },
  {
   "cell_type": "code",
   "execution_count": 912,
   "id": "ae322dd8",
   "metadata": {},
   "outputs": [
    {
     "data": {
      "text/plain": [
       "<AxesSubplot:>"
      ]
     },
     "execution_count": 912,
     "metadata": {},
     "output_type": "execute_result"
    },
    {
     "data": {
      "image/png": "[encoded data removed]",
      "text/plain": [
       "<Figure size 432x288 with 1 Axes>"
      ]
     },
     "metadata": {
      "needs_background": "light"
     },
     "output_type": "display_data"
    }
   ],
   "source": [
    "np.log1p(X_train['age']).hist()"
   ]
  },
  {
   "cell_type": "code",
   "execution_count": 913,
   "id": "d77ca02d",
   "metadata": {
    "scrolled": true
   },
   "outputs": [
    {
     "data": {
      "text/plain": [
       "<AxesSubplot:>"
      ]
     },
     "execution_count": 913,
     "metadata": {},
     "output_type": "execute_result"
    },
    {
     "data": {
      "image/png": "[encoded data removed]",
      "text/plain": [
       "<Figure size 432x288 with 1 Axes>"
      ]
     },
     "metadata": {
      "needs_background": "light"
     },
     "output_type": "display_data"
    }
   ],
   "source": [
    "y_train.hist()"
   ]
  },
  {
   "cell_type": "code",
   "execution_count": 914,
   "id": "768d993c",
   "metadata": {
    "scrolled": true
   },
   "outputs": [
    {
     "data": {
      "text/plain": [
       "<AxesSubplot:>"
      ]
     },
     "execution_count": 914,
     "metadata": {},
     "output_type": "execute_result"
    },
    {
     "data": {
      "image/png": "[encoded data removed]",
      "text/plain": [
       "<Figure size 432x288 with 1 Axes>"
      ]
     },
     "metadata": {
      "needs_background": "light"
     },
     "output_type": "display_data"
    }
   ],
   "source": [
    "np.log1p(y_train).hist()"
   ]
  },
  {
   "cell_type": "code",
   "execution_count": 915,
   "id": "9965a816",
   "metadata": {},
   "outputs": [],
   "source": [
    "X_train[['age','stat_potential','reputation']]=np.log1p(X_train[['age','stat_potential','reputation']])"
   ]
  },
  {
   "cell_type": "code",
   "execution_count": 916,
   "id": "b7a12afc",
   "metadata": {},
   "outputs": [
    {
     "data": {
      "text/plain": [
       "<AxesSubplot:>"
      ]
     },
     "execution_count": 916,
     "metadata": {},
     "output_type": "execute_result"
    },
    {
     "data": {
      "image/png": "[encoded data removed]",
      "text/plain": [
       "<Figure size 432x288 with 1 Axes>"
      ]
     },
     "metadata": {
      "needs_background": "light"
     },
     "output_type": "display_data"
    }
   ],
   "source": [
    "X_train['reputation'].hist()"
   ]
  },
  {
   "cell_type": "code",
   "execution_count": 917,
   "id": "8eb54a9a",
   "metadata": {},
   "outputs": [],
   "source": [
    "y_train=np.log1p(y_train)"
   ]
  },
  {
   "cell_type": "code",
   "execution_count": 918,
   "id": "1c670052",
   "metadata": {
    "scrolled": true
   },
   "outputs": [
    {
     "data": {
      "text/plain": [
       "<AxesSubplot:>"
      ]
     },
     "execution_count": 918,
     "metadata": {},
     "output_type": "execute_result"
    },
    {
     "data": {
      "image/png": "[encoded data removed]",
      "text/plain": [
       "<Figure size 432x288 with 1 Axes>"
      ]
     },
     "metadata": {
      "needs_background": "light"
     },
     "output_type": "display_data"
    }
   ],
   "source": [
    "y_train.hist()"
   ]
  },
  {
   "cell_type": "code",
   "execution_count": 919,
   "id": "bf0407cc",
   "metadata": {},
   "outputs": [],
   "source": [
    "from sklearn.ensemble import RandomForestRegressor"
   ]
  },
  {
   "cell_type": "code",
   "execution_count": 920,
   "id": "b6dedd69",
   "metadata": {},
   "outputs": [],
   "source": [
    "rf_reg=RandomForestRegressor()"
   ]
  },
  {
   "cell_type": "code",
   "execution_count": 921,
   "id": "7dc25c76",
   "metadata": {},
   "outputs": [
    {
     "data": {
      "text/plain": [
       "{'bootstrap': True,\n",
       " 'ccp_alpha': 0.0,\n",
       " 'criterion': 'squared_error',\n",
       " 'max_depth': None,\n",
       " 'max_features': 'auto',\n",
       " 'max_leaf_nodes': None,\n",
       " 'max_samples': None,\n",
       " 'min_impurity_decrease': 0.0,\n",
       " 'min_samples_leaf': 1,\n",
       " 'min_samples_split': 2,\n",
       " 'min_weight_fraction_leaf': 0.0,\n",
       " 'n_estimators': 100,\n",
       " 'n_jobs': None,\n",
       " 'oob_score': False,\n",
       " 'random_state': None,\n",
       " 'verbose': 0,\n",
       " 'warm_start': False}"
      ]
     },
     "execution_count": 921,
     "metadata": {},
     "output_type": "execute_result"
    }
   ],
   "source": [
    "rf_reg.get_params()"
   ]
  },
  {
   "cell_type": "code",
   "execution_count": 922,
   "id": "321d37c5",
   "metadata": {},
   "outputs": [],
   "source": [
    "#########test##########################################"
   ]
  },
  {
   "cell_type": "code",
   "execution_count": 923,
   "id": "22937f55",
   "metadata": {},
   "outputs": [
    {
     "name": "stdout",
     "output_type": "stream",
     "text": [
      "<class 'pandas.core.frame.DataFrame'>\n",
      "RangeIndex: 3828 entries, 0 to 3827\n",
      "Data columns (total 11 columns):\n",
      " #   Column            Non-Null Count  Dtype  \n",
      "---  ------            --------------  -----  \n",
      " 0   id                3828 non-null   int64  \n",
      " 1   name              3828 non-null   object \n",
      " 2   age               3828 non-null   int64  \n",
      " 3   continent         3828 non-null   int32  \n",
      " 4   contract_until    3828 non-null   int32  \n",
      " 5   position          3828 non-null   int32  \n",
      " 6   prefer_foot       3828 non-null   int32  \n",
      " 7   reputation        3828 non-null   float64\n",
      " 8   stat_overall      3828 non-null   int64  \n",
      " 9   stat_potential    3828 non-null   int64  \n",
      " 10  stat_skill_moves  3828 non-null   float64\n",
      "dtypes: float64(2), int32(4), int64(4), object(1)\n",
      "memory usage: 269.3+ KB\n"
     ]
    }
   ],
   "source": [
    "test['continent']=continent_encoder.transform(test['continent'])\n",
    "test['position']=position_encoder.transform(test['position'])\n",
    "test['prefer_foot']=foot_encoder.transform(test['prefer_foot'])\n",
    "test['contract_until']=test['contract_until'].str[-4:].astype('int')\n",
    "test.info()"
   ]
  },
  {
   "cell_type": "code",
   "execution_count": 924,
   "id": "8de5522c",
   "metadata": {},
   "outputs": [],
   "source": [
    "test['contract_until']=test['contract_until']-2018"
   ]
  },
  {
   "cell_type": "code",
   "execution_count": 925,
   "id": "86698a3b",
   "metadata": {},
   "outputs": [],
   "source": [
    "test=test.drop(['id','name'],axis=1)\n",
    "test=test.astype(\"int\")"
   ]
  },
  {
   "cell_type": "code",
   "execution_count": 926,
   "id": "44e85a8e",
   "metadata": {},
   "outputs": [],
   "source": [
    "test[['age', 'stat_potential','reputation']] = np.log1p(test[['age', 'stat_potential','reputation']])"
   ]
  },
  {
   "cell_type": "code",
   "execution_count": null,
   "id": "6472005f",
   "metadata": {},
   "outputs": [],
   "source": []
  },
  {
   "cell_type": "code",
   "execution_count": 928,
   "id": "edd08613",
   "metadata": {},
   "outputs": [],
   "source": [
    "from sklearn.preprocessing import StandardScaler\n",
    "\n",
    "scaler=StandardScaler()\n",
    "X_train=pd.DataFrame(scaler.fit_transform(X_train),columns=X_train.columns)"
   ]
  },
  {
   "cell_type": "code",
   "execution_count": 929,
   "id": "3ebb22c1",
   "metadata": {},
   "outputs": [],
   "source": [
    "test=pd.DataFrame(scaler.fit_transform(test),columns=test.columns)"
   ]
  },
  {
   "cell_type": "code",
   "execution_count": 983,
   "id": "29614c85",
   "metadata": {},
   "outputs": [
    {
     "data": {
      "text/html": [
       "<div>\n",
       "<style scoped>\n",
       "    .dataframe tbody tr th:only-of-type {\n",
       "        vertical-align: middle;\n",
       "    }\n",
       "\n",
       "    .dataframe tbody tr th {\n",
       "        vertical-align: top;\n",
       "    }\n",
       "\n",
       "    .dataframe thead th {\n",
       "        text-align: right;\n",
       "    }\n",
       "</style>\n",
       "<table border=\"1\" class=\"dataframe\">\n",
       "  <thead>\n",
       "    <tr style=\"text-align: right;\">\n",
       "      <th></th>\n",
       "      <th>age</th>\n",
       "      <th>continent</th>\n",
       "      <th>contract_until</th>\n",
       "      <th>position</th>\n",
       "      <th>prefer_foot</th>\n",
       "      <th>reputation</th>\n",
       "      <th>stat_overall</th>\n",
       "      <th>stat_potential</th>\n",
       "      <th>stat_skill_moves</th>\n",
       "    </tr>\n",
       "  </thead>\n",
       "  <tbody>\n",
       "    <tr>\n",
       "      <th>0</th>\n",
       "      <td>1.55213</td>\n",
       "      <td>-0.19050</td>\n",
       "      <td>1.35670</td>\n",
       "      <td>1.39883</td>\n",
       "      <td>0.55965</td>\n",
       "      <td>6.48533</td>\n",
       "      <td>3.85978</td>\n",
       "      <td>3.18035</td>\n",
       "      <td>3.30985</td>\n",
       "    </tr>\n",
       "    <tr>\n",
       "      <th>1</th>\n",
       "      <td>0.23789</td>\n",
       "      <td>1.59901</td>\n",
       "      <td>1.35670</td>\n",
       "      <td>1.39883</td>\n",
       "      <td>0.55965</td>\n",
       "      <td>6.48533</td>\n",
       "      <td>3.57026</td>\n",
       "      <td>3.05356</td>\n",
       "      <td>3.30985</td>\n",
       "    </tr>\n",
       "    <tr>\n",
       "      <th>2</th>\n",
       "      <td>0.44522</td>\n",
       "      <td>-0.19050</td>\n",
       "      <td>2.12531</td>\n",
       "      <td>0.51536</td>\n",
       "      <td>0.55965</td>\n",
       "      <td>5.35328</td>\n",
       "      <td>3.42549</td>\n",
       "      <td>2.92541</td>\n",
       "      <td>2.02952</td>\n",
       "    </tr>\n",
       "    <tr>\n",
       "      <th>3</th>\n",
       "      <td>0.44522</td>\n",
       "      <td>-0.19050</td>\n",
       "      <td>-0.18051</td>\n",
       "      <td>1.39883</td>\n",
       "      <td>0.55965</td>\n",
       "      <td>5.35328</td>\n",
       "      <td>3.42549</td>\n",
       "      <td>2.79588</td>\n",
       "      <td>2.02952</td>\n",
       "    </tr>\n",
       "    <tr>\n",
       "      <th>4</th>\n",
       "      <td>1.38193</td>\n",
       "      <td>-0.19050</td>\n",
       "      <td>-0.18051</td>\n",
       "      <td>0.51536</td>\n",
       "      <td>0.55965</td>\n",
       "      <td>5.35328</td>\n",
       "      <td>3.42549</td>\n",
       "      <td>2.79588</td>\n",
       "      <td>2.02952</td>\n",
       "    </tr>\n",
       "    <tr>\n",
       "      <th>...</th>\n",
       "      <td>...</td>\n",
       "      <td>...</td>\n",
       "      <td>...</td>\n",
       "      <td>...</td>\n",
       "      <td>...</td>\n",
       "      <td>...</td>\n",
       "      <td>...</td>\n",
       "      <td>...</td>\n",
       "      <td>...</td>\n",
       "    </tr>\n",
       "    <tr>\n",
       "      <th>3823</th>\n",
       "      <td>-1.19488</td>\n",
       "      <td>-1.08525</td>\n",
       "      <td>0.58810</td>\n",
       "      <td>0.51536</td>\n",
       "      <td>0.55965</td>\n",
       "      <td>-0.33606</td>\n",
       "      <td>-2.79925</td>\n",
       "      <td>-1.55233</td>\n",
       "      <td>-0.53113</td>\n",
       "    </tr>\n",
       "    <tr>\n",
       "      <th>3824</th>\n",
       "      <td>-1.76547</td>\n",
       "      <td>-0.19050</td>\n",
       "      <td>-1.71771</td>\n",
       "      <td>-0.36811</td>\n",
       "      <td>0.55965</td>\n",
       "      <td>-0.33606</td>\n",
       "      <td>-2.79925</td>\n",
       "      <td>-1.18363</td>\n",
       "      <td>-1.81145</td>\n",
       "    </tr>\n",
       "    <tr>\n",
       "      <th>3825</th>\n",
       "      <td>-1.76547</td>\n",
       "      <td>1.59901</td>\n",
       "      <td>0.58810</td>\n",
       "      <td>0.51536</td>\n",
       "      <td>0.55965</td>\n",
       "      <td>-0.33606</td>\n",
       "      <td>-2.79925</td>\n",
       "      <td>-1.18363</td>\n",
       "      <td>-0.53113</td>\n",
       "    </tr>\n",
       "    <tr>\n",
       "      <th>3826</th>\n",
       "      <td>-1.76547</td>\n",
       "      <td>-0.19050</td>\n",
       "      <td>-0.18051</td>\n",
       "      <td>1.39883</td>\n",
       "      <td>0.55965</td>\n",
       "      <td>-0.33606</td>\n",
       "      <td>-2.94401</td>\n",
       "      <td>-1.93273</td>\n",
       "      <td>-0.53113</td>\n",
       "    </tr>\n",
       "    <tr>\n",
       "      <th>3827</th>\n",
       "      <td>-1.47304</td>\n",
       "      <td>-1.08525</td>\n",
       "      <td>0.58810</td>\n",
       "      <td>0.51536</td>\n",
       "      <td>0.55965</td>\n",
       "      <td>-0.33606</td>\n",
       "      <td>-2.94401</td>\n",
       "      <td>-1.93273</td>\n",
       "      <td>-0.53113</td>\n",
       "    </tr>\n",
       "  </tbody>\n",
       "</table>\n",
       "<p>3828 rows × 9 columns</p>\n",
       "</div>"
      ],
      "text/plain": [
       "          age  continent  contract_until  position  prefer_foot  reputation  \\\n",
       "0     1.55213   -0.19050         1.35670   1.39883      0.55965     6.48533   \n",
       "1     0.23789    1.59901         1.35670   1.39883      0.55965     6.48533   \n",
       "2     0.44522   -0.19050         2.12531   0.51536      0.55965     5.35328   \n",
       "3     0.44522   -0.19050        -0.18051   1.39883      0.55965     5.35328   \n",
       "4     1.38193   -0.19050        -0.18051   0.51536      0.55965     5.35328   \n",
       "...       ...        ...             ...       ...          ...         ...   \n",
       "3823 -1.19488   -1.08525         0.58810   0.51536      0.55965    -0.33606   \n",
       "3824 -1.76547   -0.19050        -1.71771  -0.36811      0.55965    -0.33606   \n",
       "3825 -1.76547    1.59901         0.58810   0.51536      0.55965    -0.33606   \n",
       "3826 -1.76547   -0.19050        -0.18051   1.39883      0.55965    -0.33606   \n",
       "3827 -1.47304   -1.08525         0.58810   0.51536      0.55965    -0.33606   \n",
       "\n",
       "      stat_overall  stat_potential  stat_skill_moves  \n",
       "0          3.85978         3.18035           3.30985  \n",
       "1          3.57026         3.05356           3.30985  \n",
       "2          3.42549         2.92541           2.02952  \n",
       "3          3.42549         2.79588           2.02952  \n",
       "4          3.42549         2.79588           2.02952  \n",
       "...            ...             ...               ...  \n",
       "3823      -2.79925        -1.55233          -0.53113  \n",
       "3824      -2.79925        -1.18363          -1.81145  \n",
       "3825      -2.79925        -1.18363          -0.53113  \n",
       "3826      -2.94401        -1.93273          -0.53113  \n",
       "3827      -2.94401        -1.93273          -0.53113  \n",
       "\n",
       "[3828 rows x 9 columns]"
      ]
     },
     "execution_count": 983,
     "metadata": {},
     "output_type": "execute_result"
    }
   ],
   "source": [
    "test"
   ]
  },
  {
   "cell_type": "code",
   "execution_count": 981,
   "id": "66f7d76d",
   "metadata": {},
   "outputs": [
    {
     "data": {
      "text/html": [
       "<div>\n",
       "<style scoped>\n",
       "    .dataframe tbody tr th:only-of-type {\n",
       "        vertical-align: middle;\n",
       "    }\n",
       "\n",
       "    .dataframe tbody tr th {\n",
       "        vertical-align: top;\n",
       "    }\n",
       "\n",
       "    .dataframe thead th {\n",
       "        text-align: right;\n",
       "    }\n",
       "</style>\n",
       "<table border=\"1\" class=\"dataframe\">\n",
       "  <thead>\n",
       "    <tr style=\"text-align: right;\">\n",
       "      <th></th>\n",
       "      <th>age</th>\n",
       "      <th>continent</th>\n",
       "      <th>contract_until</th>\n",
       "      <th>position</th>\n",
       "      <th>prefer_foot</th>\n",
       "      <th>reputation</th>\n",
       "      <th>stat_overall</th>\n",
       "      <th>stat_potential</th>\n",
       "      <th>stat_skill_moves</th>\n",
       "    </tr>\n",
       "  </thead>\n",
       "  <tbody>\n",
       "    <tr>\n",
       "      <th>0</th>\n",
       "      <td>1.21994</td>\n",
       "      <td>1.60672</td>\n",
       "      <td>0.63595</td>\n",
       "      <td>1.38111</td>\n",
       "      <td>-1.80651</td>\n",
       "      <td>6.84045</td>\n",
       "      <td>3.92571</td>\n",
       "      <td>3.26349</td>\n",
       "      <td>2.05965</td>\n",
       "    </tr>\n",
       "    <tr>\n",
       "      <th>1</th>\n",
       "      <td>0.46286</td>\n",
       "      <td>-0.18004</td>\n",
       "      <td>-0.15342</td>\n",
       "      <td>-0.40453</td>\n",
       "      <td>0.55355</td>\n",
       "      <td>5.65172</td>\n",
       "      <td>3.48804</td>\n",
       "      <td>3.13405</td>\n",
       "      <td>-1.80631</td>\n",
       "    </tr>\n",
       "    <tr>\n",
       "      <th>2</th>\n",
       "      <td>1.21994</td>\n",
       "      <td>1.60672</td>\n",
       "      <td>0.63595</td>\n",
       "      <td>1.38111</td>\n",
       "      <td>0.55355</td>\n",
       "      <td>6.84045</td>\n",
       "      <td>3.48804</td>\n",
       "      <td>2.87099</td>\n",
       "      <td>0.77100</td>\n",
       "    </tr>\n",
       "    <tr>\n",
       "      <th>3</th>\n",
       "      <td>1.39440</td>\n",
       "      <td>-0.18004</td>\n",
       "      <td>-0.15342</td>\n",
       "      <td>-1.29734</td>\n",
       "      <td>0.55355</td>\n",
       "      <td>5.65172</td>\n",
       "      <td>3.48804</td>\n",
       "      <td>2.87099</td>\n",
       "      <td>0.77100</td>\n",
       "    </tr>\n",
       "    <tr>\n",
       "      <th>4</th>\n",
       "      <td>0.04269</td>\n",
       "      <td>-0.18004</td>\n",
       "      <td>0.63595</td>\n",
       "      <td>-0.40453</td>\n",
       "      <td>0.55355</td>\n",
       "      <td>4.19684</td>\n",
       "      <td>3.34215</td>\n",
       "      <td>3.13405</td>\n",
       "      <td>-1.80631</td>\n",
       "    </tr>\n",
       "    <tr>\n",
       "      <th>...</th>\n",
       "      <td>...</td>\n",
       "      <td>...</td>\n",
       "      <td>...</td>\n",
       "      <td>...</td>\n",
       "      <td>...</td>\n",
       "      <td>...</td>\n",
       "      <td>...</td>\n",
       "      <td>...</td>\n",
       "      <td>...</td>\n",
       "    </tr>\n",
       "    <tr>\n",
       "      <th>8927</th>\n",
       "      <td>-1.73564</td>\n",
       "      <td>-1.96679</td>\n",
       "      <td>-0.94279</td>\n",
       "      <td>0.48829</td>\n",
       "      <td>0.55355</td>\n",
       "      <td>-0.32245</td>\n",
       "      <td>-2.78519</td>\n",
       "      <td>-1.56804</td>\n",
       "      <td>0.77100</td>\n",
       "    </tr>\n",
       "    <tr>\n",
       "      <th>8928</th>\n",
       "      <td>-1.44483</td>\n",
       "      <td>-0.18004</td>\n",
       "      <td>-0.15342</td>\n",
       "      <td>-1.29734</td>\n",
       "      <td>0.55355</td>\n",
       "      <td>-0.32245</td>\n",
       "      <td>-2.93108</td>\n",
       "      <td>-2.35747</td>\n",
       "      <td>-0.51765</td>\n",
       "    </tr>\n",
       "    <tr>\n",
       "      <th>8929</th>\n",
       "      <td>-1.73564</td>\n",
       "      <td>1.60672</td>\n",
       "      <td>0.63595</td>\n",
       "      <td>-1.29734</td>\n",
       "      <td>0.55355</td>\n",
       "      <td>-0.32245</td>\n",
       "      <td>-2.93108</td>\n",
       "      <td>-1.37839</td>\n",
       "      <td>-0.51765</td>\n",
       "    </tr>\n",
       "    <tr>\n",
       "      <th>8930</th>\n",
       "      <td>-1.73564</td>\n",
       "      <td>-0.18004</td>\n",
       "      <td>0.63595</td>\n",
       "      <td>-0.40453</td>\n",
       "      <td>0.55355</td>\n",
       "      <td>-0.32245</td>\n",
       "      <td>-2.93108</td>\n",
       "      <td>-1.19164</td>\n",
       "      <td>-1.80631</td>\n",
       "    </tr>\n",
       "    <tr>\n",
       "      <th>8931</th>\n",
       "      <td>-1.44483</td>\n",
       "      <td>-0.18004</td>\n",
       "      <td>-0.15342</td>\n",
       "      <td>1.38111</td>\n",
       "      <td>0.55355</td>\n",
       "      <td>-0.32245</td>\n",
       "      <td>-2.93108</td>\n",
       "      <td>-1.56804</td>\n",
       "      <td>-0.51765</td>\n",
       "    </tr>\n",
       "  </tbody>\n",
       "</table>\n",
       "<p>8932 rows × 9 columns</p>\n",
       "</div>"
      ],
      "text/plain": [
       "          age  continent  contract_until  position  prefer_foot  reputation  \\\n",
       "0     1.21994    1.60672         0.63595   1.38111     -1.80651     6.84045   \n",
       "1     0.46286   -0.18004        -0.15342  -0.40453      0.55355     5.65172   \n",
       "2     1.21994    1.60672         0.63595   1.38111      0.55355     6.84045   \n",
       "3     1.39440   -0.18004        -0.15342  -1.29734      0.55355     5.65172   \n",
       "4     0.04269   -0.18004         0.63595  -0.40453      0.55355     4.19684   \n",
       "...       ...        ...             ...       ...          ...         ...   \n",
       "8927 -1.73564   -1.96679        -0.94279   0.48829      0.55355    -0.32245   \n",
       "8928 -1.44483   -0.18004        -0.15342  -1.29734      0.55355    -0.32245   \n",
       "8929 -1.73564    1.60672         0.63595  -1.29734      0.55355    -0.32245   \n",
       "8930 -1.73564   -0.18004         0.63595  -0.40453      0.55355    -0.32245   \n",
       "8931 -1.44483   -0.18004        -0.15342   1.38111      0.55355    -0.32245   \n",
       "\n",
       "      stat_overall  stat_potential  stat_skill_moves  \n",
       "0          3.92571         3.26349           2.05965  \n",
       "1          3.48804         3.13405          -1.80631  \n",
       "2          3.48804         2.87099           0.77100  \n",
       "3          3.48804         2.87099           0.77100  \n",
       "4          3.34215         3.13405          -1.80631  \n",
       "...            ...             ...               ...  \n",
       "8927      -2.78519        -1.56804           0.77100  \n",
       "8928      -2.93108        -2.35747          -0.51765  \n",
       "8929      -2.93108        -1.37839          -0.51765  \n",
       "8930      -2.93108        -1.19164          -1.80631  \n",
       "8931      -2.93108        -1.56804          -0.51765  \n",
       "\n",
       "[8932 rows x 9 columns]"
      ]
     },
     "execution_count": 981,
     "metadata": {},
     "output_type": "execute_result"
    }
   ],
   "source": [
    "X_train"
   ]
  },
  {
   "cell_type": "code",
   "execution_count": 930,
   "id": "3d924765",
   "metadata": {
    "scrolled": true
   },
   "outputs": [
    {
     "data": {
      "text/html": [
       "<div>\n",
       "<style scoped>\n",
       "    .dataframe tbody tr th:only-of-type {\n",
       "        vertical-align: middle;\n",
       "    }\n",
       "\n",
       "    .dataframe tbody tr th {\n",
       "        vertical-align: top;\n",
       "    }\n",
       "\n",
       "    .dataframe thead th {\n",
       "        text-align: right;\n",
       "    }\n",
       "</style>\n",
       "<table border=\"1\" class=\"dataframe\">\n",
       "  <thead>\n",
       "    <tr style=\"text-align: right;\">\n",
       "      <th></th>\n",
       "      <th>age</th>\n",
       "      <th>continent</th>\n",
       "      <th>contract_until</th>\n",
       "      <th>position</th>\n",
       "      <th>prefer_foot</th>\n",
       "      <th>reputation</th>\n",
       "      <th>stat_overall</th>\n",
       "      <th>stat_potential</th>\n",
       "      <th>stat_skill_moves</th>\n",
       "    </tr>\n",
       "  </thead>\n",
       "  <tbody>\n",
       "    <tr>\n",
       "      <th>0</th>\n",
       "      <td>1.55213</td>\n",
       "      <td>-0.19050</td>\n",
       "      <td>1.35670</td>\n",
       "      <td>1.39883</td>\n",
       "      <td>0.55965</td>\n",
       "      <td>6.48533</td>\n",
       "      <td>3.85978</td>\n",
       "      <td>3.18035</td>\n",
       "      <td>3.30985</td>\n",
       "    </tr>\n",
       "    <tr>\n",
       "      <th>1</th>\n",
       "      <td>0.23789</td>\n",
       "      <td>1.59901</td>\n",
       "      <td>1.35670</td>\n",
       "      <td>1.39883</td>\n",
       "      <td>0.55965</td>\n",
       "      <td>6.48533</td>\n",
       "      <td>3.57026</td>\n",
       "      <td>3.05356</td>\n",
       "      <td>3.30985</td>\n",
       "    </tr>\n",
       "    <tr>\n",
       "      <th>2</th>\n",
       "      <td>0.44522</td>\n",
       "      <td>-0.19050</td>\n",
       "      <td>2.12531</td>\n",
       "      <td>0.51536</td>\n",
       "      <td>0.55965</td>\n",
       "      <td>5.35328</td>\n",
       "      <td>3.42549</td>\n",
       "      <td>2.92541</td>\n",
       "      <td>2.02952</td>\n",
       "    </tr>\n",
       "    <tr>\n",
       "      <th>3</th>\n",
       "      <td>0.44522</td>\n",
       "      <td>-0.19050</td>\n",
       "      <td>-0.18051</td>\n",
       "      <td>1.39883</td>\n",
       "      <td>0.55965</td>\n",
       "      <td>5.35328</td>\n",
       "      <td>3.42549</td>\n",
       "      <td>2.79588</td>\n",
       "      <td>2.02952</td>\n",
       "    </tr>\n",
       "    <tr>\n",
       "      <th>4</th>\n",
       "      <td>1.38193</td>\n",
       "      <td>-0.19050</td>\n",
       "      <td>-0.18051</td>\n",
       "      <td>0.51536</td>\n",
       "      <td>0.55965</td>\n",
       "      <td>5.35328</td>\n",
       "      <td>3.42549</td>\n",
       "      <td>2.79588</td>\n",
       "      <td>2.02952</td>\n",
       "    </tr>\n",
       "    <tr>\n",
       "      <th>...</th>\n",
       "      <td>...</td>\n",
       "      <td>...</td>\n",
       "      <td>...</td>\n",
       "      <td>...</td>\n",
       "      <td>...</td>\n",
       "      <td>...</td>\n",
       "      <td>...</td>\n",
       "      <td>...</td>\n",
       "      <td>...</td>\n",
       "    </tr>\n",
       "    <tr>\n",
       "      <th>3823</th>\n",
       "      <td>-1.19488</td>\n",
       "      <td>-1.08525</td>\n",
       "      <td>0.58810</td>\n",
       "      <td>0.51536</td>\n",
       "      <td>0.55965</td>\n",
       "      <td>-0.33606</td>\n",
       "      <td>-2.79925</td>\n",
       "      <td>-1.55233</td>\n",
       "      <td>-0.53113</td>\n",
       "    </tr>\n",
       "    <tr>\n",
       "      <th>3824</th>\n",
       "      <td>-1.76547</td>\n",
       "      <td>-0.19050</td>\n",
       "      <td>-1.71771</td>\n",
       "      <td>-0.36811</td>\n",
       "      <td>0.55965</td>\n",
       "      <td>-0.33606</td>\n",
       "      <td>-2.79925</td>\n",
       "      <td>-1.18363</td>\n",
       "      <td>-1.81145</td>\n",
       "    </tr>\n",
       "    <tr>\n",
       "      <th>3825</th>\n",
       "      <td>-1.76547</td>\n",
       "      <td>1.59901</td>\n",
       "      <td>0.58810</td>\n",
       "      <td>0.51536</td>\n",
       "      <td>0.55965</td>\n",
       "      <td>-0.33606</td>\n",
       "      <td>-2.79925</td>\n",
       "      <td>-1.18363</td>\n",
       "      <td>-0.53113</td>\n",
       "    </tr>\n",
       "    <tr>\n",
       "      <th>3826</th>\n",
       "      <td>-1.76547</td>\n",
       "      <td>-0.19050</td>\n",
       "      <td>-0.18051</td>\n",
       "      <td>1.39883</td>\n",
       "      <td>0.55965</td>\n",
       "      <td>-0.33606</td>\n",
       "      <td>-2.94401</td>\n",
       "      <td>-1.93273</td>\n",
       "      <td>-0.53113</td>\n",
       "    </tr>\n",
       "    <tr>\n",
       "      <th>3827</th>\n",
       "      <td>-1.47304</td>\n",
       "      <td>-1.08525</td>\n",
       "      <td>0.58810</td>\n",
       "      <td>0.51536</td>\n",
       "      <td>0.55965</td>\n",
       "      <td>-0.33606</td>\n",
       "      <td>-2.94401</td>\n",
       "      <td>-1.93273</td>\n",
       "      <td>-0.53113</td>\n",
       "    </tr>\n",
       "  </tbody>\n",
       "</table>\n",
       "<p>3828 rows × 9 columns</p>\n",
       "</div>"
      ],
      "text/plain": [
       "          age  continent  contract_until  position  prefer_foot  reputation  \\\n",
       "0     1.55213   -0.19050         1.35670   1.39883      0.55965     6.48533   \n",
       "1     0.23789    1.59901         1.35670   1.39883      0.55965     6.48533   \n",
       "2     0.44522   -0.19050         2.12531   0.51536      0.55965     5.35328   \n",
       "3     0.44522   -0.19050        -0.18051   1.39883      0.55965     5.35328   \n",
       "4     1.38193   -0.19050        -0.18051   0.51536      0.55965     5.35328   \n",
       "...       ...        ...             ...       ...          ...         ...   \n",
       "3823 -1.19488   -1.08525         0.58810   0.51536      0.55965    -0.33606   \n",
       "3824 -1.76547   -0.19050        -1.71771  -0.36811      0.55965    -0.33606   \n",
       "3825 -1.76547    1.59901         0.58810   0.51536      0.55965    -0.33606   \n",
       "3826 -1.76547   -0.19050        -0.18051   1.39883      0.55965    -0.33606   \n",
       "3827 -1.47304   -1.08525         0.58810   0.51536      0.55965    -0.33606   \n",
       "\n",
       "      stat_overall  stat_potential  stat_skill_moves  \n",
       "0          3.85978         3.18035           3.30985  \n",
       "1          3.57026         3.05356           3.30985  \n",
       "2          3.42549         2.92541           2.02952  \n",
       "3          3.42549         2.79588           2.02952  \n",
       "4          3.42549         2.79588           2.02952  \n",
       "...            ...             ...               ...  \n",
       "3823      -2.79925        -1.55233          -0.53113  \n",
       "3824      -2.79925        -1.18363          -1.81145  \n",
       "3825      -2.79925        -1.18363          -0.53113  \n",
       "3826      -2.94401        -1.93273          -0.53113  \n",
       "3827      -2.94401        -1.93273          -0.53113  \n",
       "\n",
       "[3828 rows x 9 columns]"
      ]
     },
     "execution_count": 930,
     "metadata": {},
     "output_type": "execute_result"
    }
   ],
   "source": [
    "test"
   ]
  },
  {
   "cell_type": "code",
   "execution_count": 984,
   "id": "9e6bd85e",
   "metadata": {},
   "outputs": [],
   "source": [
    "from sklearn.ensemble import GradientBoostingRegressor\n",
    "\n",
    "gbr=GradientBoostingRegressor()"
   ]
  },
  {
   "cell_type": "code",
   "execution_count": 985,
   "id": "e84d314c",
   "metadata": {},
   "outputs": [
    {
     "data": {
      "text/plain": [
       "{'alpha': 0.9,\n",
       " 'ccp_alpha': 0.0,\n",
       " 'criterion': 'friedman_mse',\n",
       " 'init': None,\n",
       " 'learning_rate': 0.1,\n",
       " 'loss': 'squared_error',\n",
       " 'max_depth': 3,\n",
       " 'max_features': None,\n",
       " 'max_leaf_nodes': None,\n",
       " 'min_impurity_decrease': 0.0,\n",
       " 'min_samples_leaf': 1,\n",
       " 'min_samples_split': 2,\n",
       " 'min_weight_fraction_leaf': 0.0,\n",
       " 'n_estimators': 100,\n",
       " 'n_iter_no_change': None,\n",
       " 'random_state': None,\n",
       " 'subsample': 1.0,\n",
       " 'tol': 0.0001,\n",
       " 'validation_fraction': 0.1,\n",
       " 'verbose': 0,\n",
       " 'warm_start': False}"
      ]
     },
     "execution_count": 985,
     "metadata": {},
     "output_type": "execute_result"
    }
   ],
   "source": [
    "gbr.get_params()"
   ]
  },
  {
   "cell_type": "code",
   "execution_count": 999,
   "id": "a24af885",
   "metadata": {},
   "outputs": [],
   "source": [
    "params={'max_depth':[4,6,8,10],'n_estimators':[3,4,5],'learning_rate':[0.01,0.05,0.1,0.3]}\n",
    "grid_cv=GridSearchCV(gbr,param_grid=params,cv=5,scoring='neg_mean_squared_error',refit=True)"
   ]
  },
  {
   "cell_type": "code",
   "execution_count": 1000,
   "id": "3a1bb882",
   "metadata": {},
   "outputs": [
    {
     "data": {
      "text/plain": [
       "GridSearchCV(cv=5, estimator=GradientBoostingRegressor(),\n",
       "             param_grid={'learning_rate': [0.01, 0.05, 0.1, 0.3],\n",
       "                         'max_depth': [4, 6, 8, 10],\n",
       "                         'n_estimators': [3, 4, 5]},\n",
       "             scoring='neg_mean_squared_error')"
      ]
     },
     "execution_count": 1000,
     "metadata": {},
     "output_type": "execute_result"
    }
   ],
   "source": [
    "grid_cv.fit(X_train,y_train)"
   ]
  },
  {
   "cell_type": "code",
   "execution_count": 1001,
   "id": "64e0b0d1",
   "metadata": {},
   "outputs": [
    {
     "data": {
      "text/plain": [
       "{'learning_rate': 0.3, 'max_depth': 10, 'n_estimators': 5}"
      ]
     },
     "execution_count": 1001,
     "metadata": {},
     "output_type": "execute_result"
    }
   ],
   "source": [
    "grid_cv.best_params_"
   ]
  },
  {
   "cell_type": "code",
   "execution_count": 1002,
   "id": "caeeaa8e",
   "metadata": {},
   "outputs": [],
   "source": [
    "best_grid=grid_cv.best_estimator_"
   ]
  },
  {
   "cell_type": "code",
   "execution_count": 1003,
   "id": "27cae862",
   "metadata": {},
   "outputs": [],
   "source": [
    "y_pred=best_grid.predict(test)"
   ]
  },
  {
   "cell_type": "code",
   "execution_count": 1004,
   "id": "22950d3a",
   "metadata": {},
   "outputs": [
    {
     "data": {
      "text/plain": [
       "array([38982484.592861, 43443506.820932, 40871418.136572, ...,\n",
       "          96717.743314,    82925.937253,    83829.814767])"
      ]
     },
     "execution_count": 1004,
     "metadata": {},
     "output_type": "execute_result"
    }
   ],
   "source": [
    "np.expm1(y_pred)"
   ]
  },
  {
   "cell_type": "code",
   "execution_count": null,
   "id": "d4258836",
   "metadata": {},
   "outputs": [],
   "source": []
  },
  {
   "cell_type": "code",
   "execution_count": null,
   "id": "718c300d",
   "metadata": {},
   "outputs": [],
   "source": []
  },
  {
   "cell_type": "code",
   "execution_count": null,
   "id": "de116063",
   "metadata": {},
   "outputs": [],
   "source": []
  },
  {
   "cell_type": "code",
   "execution_count": null,
   "id": "ab19a9b0",
   "metadata": {},
   "outputs": [],
   "source": []
  },
  {
   "cell_type": "code",
   "execution_count": null,
   "id": "cb05466e",
   "metadata": {},
   "outputs": [],
   "source": []
  },
  {
   "cell_type": "code",
   "execution_count": 938,
   "id": "3ac8caea",
   "metadata": {
    "scrolled": true
   },
   "outputs": [
    {
     "data": {
      "text/plain": [
       "{'bootstrap': True,\n",
       " 'ccp_alpha': 0.0,\n",
       " 'criterion': 'squared_error',\n",
       " 'max_depth': None,\n",
       " 'max_features': 'auto',\n",
       " 'max_leaf_nodes': None,\n",
       " 'max_samples': None,\n",
       " 'min_impurity_decrease': 0.0,\n",
       " 'min_samples_leaf': 1,\n",
       " 'min_samples_split': 2,\n",
       " 'min_weight_fraction_leaf': 0.0,\n",
       " 'n_estimators': 100,\n",
       " 'n_jobs': None,\n",
       " 'oob_score': False,\n",
       " 'random_state': None,\n",
       " 'verbose': 0,\n",
       " 'warm_start': False}"
      ]
     },
     "execution_count": 938,
     "metadata": {},
     "output_type": "execute_result"
    }
   ],
   "source": [
    "rf_reg.get_params()"
   ]
  },
  {
   "cell_type": "code",
   "execution_count": 939,
   "id": "f1655b80",
   "metadata": {},
   "outputs": [],
   "source": [
    "from sklearn.model_selection import GridSearchCV"
   ]
  },
  {
   "cell_type": "code",
   "execution_count": 957,
   "id": "62fa9033",
   "metadata": {},
   "outputs": [],
   "source": [
    "params={'max_depth':[12,13,14,15],'max_features':[6,7,8,9]}"
   ]
  },
  {
   "cell_type": "code",
   "execution_count": 958,
   "id": "4c6ca0d8",
   "metadata": {},
   "outputs": [],
   "source": [
    "grid_cv=GridSearchCV(rf_reg,param_grid=params,cv=5,refit=True,scoring='neg_mean_squared_error')"
   ]
  },
  {
   "cell_type": "code",
   "execution_count": 959,
   "id": "a608e89b",
   "metadata": {},
   "outputs": [
    {
     "data": {
      "text/plain": [
       "GridSearchCV(cv=5, estimator=RandomForestRegressor(),\n",
       "             param_grid={'max_depth': [12, 13, 14, 15],\n",
       "                         'max_features': [6, 7, 8, 9]},\n",
       "             scoring='neg_mean_squared_error')"
      ]
     },
     "execution_count": 959,
     "metadata": {},
     "output_type": "execute_result"
    }
   ],
   "source": [
    "grid_cv.fit(X_train,y_train)"
   ]
  },
  {
   "cell_type": "code",
   "execution_count": 960,
   "id": "0d668bab",
   "metadata": {},
   "outputs": [
    {
     "data": {
      "text/plain": [
       "{'max_depth': 13, 'max_features': 8}"
      ]
     },
     "execution_count": 960,
     "metadata": {},
     "output_type": "execute_result"
    }
   ],
   "source": [
    "grid_cv.best_params_"
   ]
  },
  {
   "cell_type": "code",
   "execution_count": 961,
   "id": "acd9c30c",
   "metadata": {
    "scrolled": true
   },
   "outputs": [
    {
     "data": {
      "text/plain": [
       "RandomForestRegressor(max_depth=13, max_features=8)"
      ]
     },
     "execution_count": 961,
     "metadata": {},
     "output_type": "execute_result"
    }
   ],
   "source": [
    "best_grid=grid_cv.best_estimator_\n",
    "best_grid.fit(X_train,y_train)"
   ]
  },
  {
   "cell_type": "code",
   "execution_count": 974,
   "id": "c3cf90a8",
   "metadata": {},
   "outputs": [
    {
     "data": {
      "text/plain": [
       "-0.3565669583523019"
      ]
     },
     "execution_count": 974,
     "metadata": {},
     "output_type": "execute_result"
    }
   ],
   "source": [
    "grid_cv.best_score_"
   ]
  },
  {
   "cell_type": "code",
   "execution_count": 975,
   "id": "d0ed07a9",
   "metadata": {},
   "outputs": [],
   "source": [
    "y_pred=best_grid.predict(test)"
   ]
  },
  {
   "cell_type": "code",
   "execution_count": 976,
   "id": "5bb3631f",
   "metadata": {},
   "outputs": [],
   "source": [
    "submit=np.expm1(y_pred)"
   ]
  },
  {
   "cell_type": "code",
   "execution_count": 977,
   "id": "7411735e",
   "metadata": {},
   "outputs": [
    {
     "data": {
      "text/plain": [
       "array([56021398.130808, 75301450.571237, 66127206.215893, ...,\n",
       "          58558.568767,    49761.450345,    50485.327584])"
      ]
     },
     "execution_count": 977,
     "metadata": {},
     "output_type": "execute_result"
    }
   ],
   "source": [
    "submit"
   ]
  },
  {
   "cell_type": "code",
   "execution_count": 971,
   "id": "7f794442",
   "metadata": {},
   "outputs": [],
   "source": [
    "from sklearn.model_selection import cross_val_score"
   ]
  },
  {
   "cell_type": "code",
   "execution_count": 972,
   "id": "ac94e82d",
   "metadata": {},
   "outputs": [],
   "source": [
    "score=cross_val_score(best_grid,X_train,y_train,scoring='neg_mean_squared_error')"
   ]
  },
  {
   "cell_type": "code",
   "execution_count": 973,
   "id": "4197844d",
   "metadata": {},
   "outputs": [
    {
     "data": {
      "text/plain": [
       "array([0.754403, 0.233044, 0.024917, 0.035246, 0.759383])"
      ]
     },
     "execution_count": 973,
     "metadata": {},
     "output_type": "execute_result"
    }
   ],
   "source": [
    "-score"
   ]
  },
  {
   "cell_type": "code",
   "execution_count": 714,
   "id": "cfb9e18e",
   "metadata": {},
   "outputs": [],
   "source": [
    "y_pred=np.expm1(y_pred)"
   ]
  },
  {
   "cell_type": "code",
   "execution_count": 715,
   "id": "c7914a3c",
   "metadata": {},
   "outputs": [
    {
     "data": {
      "text/plain": [
       "array([47339841.362128, 81367411.290321, 68734833.122578, ...,\n",
       "          59915.548307,    48650.876158,    49280.37843 ])"
      ]
     },
     "execution_count": 715,
     "metadata": {},
     "output_type": "execute_result"
    }
   ],
   "source": [
    "y_pred"
   ]
  },
  {
   "cell_type": "code",
   "execution_count": 712,
   "id": "b910c5f4",
   "metadata": {},
   "outputs": [],
   "source": [
    "submission=pd.read_csv(\"submission.csv\")"
   ]
  },
  {
   "cell_type": "code",
   "execution_count": 713,
   "id": "a4e21db5",
   "metadata": {},
   "outputs": [],
   "source": [
    "##############################################################제출파일 만들기###################\n",
    "##################\n",
    "##############################################"
   ]
  },
  {
   "cell_type": "code",
   "execution_count": 978,
   "id": "ec85bd95",
   "metadata": {},
   "outputs": [],
   "source": [
    "submission['value']=submit"
   ]
  },
  {
   "cell_type": "code",
   "execution_count": 979,
   "id": "16d32fcb",
   "metadata": {},
   "outputs": [
    {
     "data": {
      "text/html": [
       "<div>\n",
       "<style scoped>\n",
       "    .dataframe tbody tr th:only-of-type {\n",
       "        vertical-align: middle;\n",
       "    }\n",
       "\n",
       "    .dataframe tbody tr th {\n",
       "        vertical-align: top;\n",
       "    }\n",
       "\n",
       "    .dataframe thead th {\n",
       "        text-align: right;\n",
       "    }\n",
       "</style>\n",
       "<table border=\"1\" class=\"dataframe\">\n",
       "  <thead>\n",
       "    <tr style=\"text-align: right;\">\n",
       "      <th></th>\n",
       "      <th>id</th>\n",
       "      <th>value</th>\n",
       "    </tr>\n",
       "  </thead>\n",
       "  <tbody>\n",
       "    <tr>\n",
       "      <th>0</th>\n",
       "      <td>1</td>\n",
       "      <td>56021398.13081</td>\n",
       "    </tr>\n",
       "    <tr>\n",
       "      <th>1</th>\n",
       "      <td>2</td>\n",
       "      <td>75301450.57124</td>\n",
       "    </tr>\n",
       "    <tr>\n",
       "      <th>2</th>\n",
       "      <td>4</td>\n",
       "      <td>66127206.21589</td>\n",
       "    </tr>\n",
       "    <tr>\n",
       "      <th>3</th>\n",
       "      <td>5</td>\n",
       "      <td>66271356.74258</td>\n",
       "    </tr>\n",
       "    <tr>\n",
       "      <th>4</th>\n",
       "      <td>6</td>\n",
       "      <td>58964351.22677</td>\n",
       "    </tr>\n",
       "    <tr>\n",
       "      <th>...</th>\n",
       "      <td>...</td>\n",
       "      <td>...</td>\n",
       "    </tr>\n",
       "    <tr>\n",
       "      <th>3823</th>\n",
       "      <td>16924</td>\n",
       "      <td>59764.77454</td>\n",
       "    </tr>\n",
       "    <tr>\n",
       "      <th>3824</th>\n",
       "      <td>16929</td>\n",
       "      <td>49754.71102</td>\n",
       "    </tr>\n",
       "    <tr>\n",
       "      <th>3825</th>\n",
       "      <td>16932</td>\n",
       "      <td>58558.56877</td>\n",
       "    </tr>\n",
       "    <tr>\n",
       "      <th>3826</th>\n",
       "      <td>16937</td>\n",
       "      <td>49761.45034</td>\n",
       "    </tr>\n",
       "    <tr>\n",
       "      <th>3827</th>\n",
       "      <td>16943</td>\n",
       "      <td>50485.32758</td>\n",
       "    </tr>\n",
       "  </tbody>\n",
       "</table>\n",
       "<p>3828 rows × 2 columns</p>\n",
       "</div>"
      ],
      "text/plain": [
       "         id          value\n",
       "0         1 56021398.13081\n",
       "1         2 75301450.57124\n",
       "2         4 66127206.21589\n",
       "3         5 66271356.74258\n",
       "4         6 58964351.22677\n",
       "...     ...            ...\n",
       "3823  16924    59764.77454\n",
       "3824  16929    49754.71102\n",
       "3825  16932    58558.56877\n",
       "3826  16937    49761.45034\n",
       "3827  16943    50485.32758\n",
       "\n",
       "[3828 rows x 2 columns]"
      ]
     },
     "execution_count": 979,
     "metadata": {},
     "output_type": "execute_result"
    }
   ],
   "source": [
    "submission"
   ]
  },
  {
   "cell_type": "code",
   "execution_count": 980,
   "id": "e9957440",
   "metadata": {
    "scrolled": true
   },
   "outputs": [],
   "source": [
    "submission.to_csv(\"soccer_submit.csv\",index=False)"
   ]
  },
  {
   "cell_type": "code",
   "execution_count": null,
   "id": "39792150",
   "metadata": {},
   "outputs": [],
   "source": [
    "test"
   ]
  },
  {
   "cell_type": "code",
   "execution_count": null,
   "id": "fb772a5d",
   "metadata": {},
   "outputs": [],
   "source": []
  }
 ],
 "metadata": {
  "kernelspec": {
   "display_name": "Python 3 (ipykernel)",
   "language": "python",
   "name": "python3"
  },
  "language_info": {
   "codemirror_mode": {
    "name": "ipython",
    "version": 3
   },
   "file_extension": ".py",
   "mimetype": "text/x-python",
   "name": "python",
   "nbconvert_exporter": "python",
   "pygments_lexer": "ipython3",
   "version": "3.9.7"
  }
 },
 "nbformat": 4,
 "nbformat_minor": 5
}
